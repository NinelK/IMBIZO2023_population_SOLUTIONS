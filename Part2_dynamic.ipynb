{
  "cells": [
    {
      "cell_type": "markdown",
      "metadata": {
        "id": "view-in-github",
        "colab_type": "text"
      },
      "source": [
        "<a href=\"https://colab.research.google.com/github/NinelK/IMBIZO2023_population_tutorial/blob/main/Part2_dynamic.ipynb\" target=\"_parent\"><img src=\"https://colab.research.google.com/assets/colab-badge.svg\" alt=\"Open In Colab\"/></a>"
      ]
    },
    {
      "cell_type": "markdown",
      "metadata": {
        "id": "9S_38ayWhm5W"
      },
      "source": [
        "# **Tutorial:** Dimensionality reduction & neural population models: dynamic"
      ]
    },
    {
      "cell_type": "markdown",
      "metadata": {
        "id": "5lSgytL2f3OV",
        "jp-MarkdownHeadingCollapsed": true,
        "tags": []
      },
      "source": [
        "## Introduction\n",
        "\n",
        "<p align='center'><img src='https://raw.githubusercontent.com/NinelK/IMBIZO2023_population_tutorial/main/figures/Population_dynamics.jpeg?raw=True'/></p>\n",
        "\n",
        "Observed dynamics  | Latent dynamics\n",
        "-------------------|-------------------\n",
        "$$\\frac{d\\mathbf{x}(t)}{dt} = F_c(\\mathbf{x}(t),\\mathbf{u}(t))$$             |          $$\\frac{d\\mathbf{z}(t)}{dt} = F_c(\\mathbf{z}(t),\\mathbf{u}(t))$$           $$\\mathbf{x} = C \\mathbf{z} + \\mathbf\\varepsilon$$\n",
        "\n",
        "*Notation:* The variables in **bold** here correspond to vectors, e.g. a population activity vector $\\mathbf{x} = (x_1,x_2,\\ldots,x_n)^T$.\n",
        "External inputs $\\mathbf{u}$ in this case would correspond to the inputs from other unobserved neurons (e.g. another brain area).\n",
        "\n",
        "The key part of the dynamical systems framework is the **evolution function** $F$. Whether continuous $F_c$ or discrete $F_d$, it can tell us a lot about the system:\n",
        "> The power of the dynamical systems approach to neuroscience, as well as to many other sciences, is that we can tell something, or many things, about a system without knowing all the details that govern the system evolution. We do not even use equations to do that! Some may even wonder why we call it a mathematical theory.        *Eugene Izhikevich [1]*\n",
        "\n",
        "Therefore, the main goal of the tutorial is to learn how to tell something about the dynamical system knowing $F$.\n",
        "\n"
      ]
    },
    {
      "cell_type": "markdown",
      "metadata": {
        "id": "5e6LtQ4p-B8U",
        "tags": []
      },
      "source": [
        "## Setups"
      ]
    },
    {
      "cell_type": "code",
      "execution_count": null,
      "metadata": {
        "id": "qH1B5GBH9969"
      },
      "outputs": [],
      "source": [
        "from functools import partial\n",
        "import matplotlib.pyplot as plt\n",
        "import numpy as np\n",
        "import ipywidgets as widgets       # interactive display\n",
        "from matplotlib import rcParams\n",
        "from scipy.linalg import expm\n",
        "from scipy.optimize import minimize\n",
        "rcParams.update({'font.size': 18})"
      ]
    },
    {
      "cell_type": "markdown",
      "metadata": {
        "id": "N_XDFK9Xe9Sj"
      },
      "source": [
        "# Autonomous linear dynamical systems (LDS)"
      ]
    },
    {
      "cell_type": "markdown",
      "metadata": {
        "id": "1-CiIYrZ9wCc"
      },
      "source": [
        "Sometimes, we can assume that the system does not receive any external inputs and evolves in time on its own ( $u(t)=0$ ). Such dynamical systems are called **autonomous**. Autonomous systems are common in physics, but also surprisingly applicable to some biological neural networks, as we will see in the last part of the tutorial. Lack of external inputs greatly simplifies the analysis of the dynamics $F$, so let us assume **no** external inputs for now.\n",
        "\n",
        "As a warmup, let us start with a 1D autonomous continuous-time dynamical system:\n",
        "\n",
        "$\\frac{dx}{dt} = \\dot x = a x; \\qquad x(0) = x_0 \\tag{1} $\n",
        "\n",
        "We are looking at a so-called *initial value problem* here: we know the state of the system $x_0$ at $t=0$, but we want to make a forecast into the future and find $x(t)$ for $t>0$."
      ]
    },
    {
      "cell_type": "markdown",
      "metadata": {
        "id": "5ONwZE8bH5jr"
      },
      "source": [
        "## Solving a 1D linear dynamics equation\n",
        "Let us solve equation (1) both numerically and analytically.\n",
        "\n",
        "For analytical solution, let us reorder the variables and integrate both sides of the equation just on paper:\n",
        "\n",
        "$$\\int_{x_0}^{x_t} \\frac{dx}{x} = \\int_{0}^t a dt \\tag{2a}$$\n",
        "\n",
        "For numerical integration, we will use the *forward Euler* scheme:\n",
        "\n",
        "$$\\frac{dx}{dt} \\approx \\frac{\\Delta x}{\\Delta t} = \\frac{x_{n+1} - x_n}{\\Delta t} \\tag{2b}$$\n",
        "\n",
        "We can then write down an analytical solution at any time point $t$ based on (2a), and also get a numerical approximation of the same integral by applying the update rule $x_{n+1} \\rightarrow x_n$ based on (2b) in a for-loop:"
      ]
    },
    {
      "cell_type": "markdown",
      "metadata": {
        "id": "uOakw9zb3Rbd"
      },
      "source": [
        "### **Exercise 1:** Analytical vs numerical solutions\n",
        "Complete the missing lines in the code below. Does analytical solution match the numerical solution? "
      ]
    },
    {
      "cell_type": "code",
      "execution_count": null,
      "metadata": {
        "colab": {
          "base_uri": "https://localhost:8080/",
          "height": 391,
          "referenced_widgets": [
            "0d1c8d5110954d769ab8b622b6043671",
            "d593cdb684a14459a87234dd302af4f5",
            "515c4413dfa04ab980eca7d14234fb39",
            "3bbfa1f4655e4402b15a2856dccd2b6d",
            "95fa22b4bcc144a98b99f4e3276660f0",
            "ee537d4f32f44b2fb8849f35c8492540",
            "a578f7e811e64d6fbf87b6241928f3cc",
            "9207d4e810c945ad9572c25959ad156a",
            "0fe0f5f85f624044b760515425eaa517",
            "a10689ceed5d46528b915335d82b4cd1",
            "d233ff4e48114711903764b525e7bbbb",
            "dd9a2393b26a454896b42187bba6fc95",
            "0c4808d53df7407188a7ebb897e8a036",
            "29fb50b99c7e4e96a9b8e1f38d44ee0b"
          ]
        },
        "id": "dwtnAtUPNkyv",
        "outputId": "e8aa9a7d-af35-4b7d-b2be-49d7ddc3ebef"
      },
      "outputs": [
        {
          "data": {
            "application/vnd.jupyter.widget-view+json": {
              "model_id": "29fb50b99c7e4e96a9b8e1f38d44ee0b",
              "version_major": 2,
              "version_minor": 0
            },
            "text/plain": [
              "interactive(children=(FloatSlider(value=1.0, description='x0', max=3.0, min=-1.0), FloatSlider(value=1.0, desc…"
            ]
          },
          "metadata": {},
          "output_type": "display_data"
        }
      ],
      "source": [
        "def analytical_1D_solution(x0,a,t):\n",
        "    ''' Finds a solution of x' = ax, for x(t), given x(0) = x0 '''\n",
        "    xt = ... # TODO: solve the equation (2a) with pen and paper and type the result here\n",
        "    return xt\n",
        "\n",
        "def numerical_1D_solution(x0,a,t,dt=0.001):\n",
        "    ''' Integrates x' = ax using a forward Euler scheme, given x(0) = x0;\n",
        "    Returns x(t) '''\n",
        "    N = int(t//dt) # number of integration steps \n",
        "    xn = x0 # current value of x_n\n",
        "    for n in range(N):\n",
        "        x_n_plus_1 = ... #TODO: write a discretized update rule following (1-2b)\n",
        "        xn = x_n_plus_1  \n",
        "    return xn\n",
        "\n",
        "T = 1 # total duration\n",
        "n_plot = 10 # how many points to plot\n",
        "\n",
        "@widgets.interact\n",
        "def plot_1D_solutions(x0 = 1., \n",
        "                      a = widgets.FloatSlider(min=-2., max=2., step=1, value=1),\n",
        "                      dt = widgets.FloatLogSlider(min=-3, max=-1, value=.01)):\n",
        "    a = a if type(a)==float else a.value\n",
        "    dt = dt if type(dt)==float else dt.value\n",
        "    plt.figure()\n",
        "    time = np.linspace(0,T,n_plot)\n",
        "    plt.plot(time, [analytical_1D_solution(x0,a,t) for t in time],label='Analytical solution')\n",
        "    plt.plot(time, [numerical_1D_solution(x0,a,t,dt) for t in time],label='Numerical solution')\n",
        "    plt.xlim([0,T])\n",
        "    plt.ylim([-5,5])\n",
        "    plt.axhline(0,c='k',linestyle=':')\n",
        "    plt.xlabel('time')\n",
        "    plt.ylabel('state x')\n",
        "    plt.legend()\n"
      ]
    },
    {
      "cell_type": "markdown",
      "metadata": {
        "id": "CcskjbCC2Re3"
      },
      "source": [
        "#### **Think!**\n",
        "When do the solutions agree? Disagree? Why?\n"
      ]
    },
    {
      "cell_type": "markdown",
      "metadata": {
        "id": "LL7--Zxr1ad3"
      },
      "source": [
        "#### **Think!**\n",
        "\n",
        "How many qualitatively different solutions have you found? What are they?\n"
      ]
    },
    {
      "cell_type": "markdown",
      "metadata": {
        "id": "240PYpGQF9XH"
      },
      "source": [
        "### **Take home message**\n",
        "\n",
        "$a$ determines how the amplitude of the solution changes (decays, amplifies or stays constant)\n",
        "<!-- In a 1D linear autonomous dynamical system with a single parameter $a$:\n",
        "1. Real part of $a$ determines how the amplitude of the solution changes (decays, amplifies or stays constant)\n",
        "2. Imaginary part of $a$ determines the frequency of oscillations -->"
      ]
    },
    {
      "cell_type": "markdown",
      "metadata": {
        "id": "sHgJvwFQKZzb"
      },
      "source": [
        "# Oscillations need 2D\n",
        "\n",
        "In Exercise 1 we have observed a 1D system can exponentially grow, decay, or stay the same. But we know that many systems in neuroscience do neither. They often **oscillate**! But for this behavior we need at least 2 dimensions!\n",
        "\n",
        "$$\\begin{bmatrix}\n",
        "\\frac{d x_1}{dt} \\\\\n",
        "\\frac{d x_2}{dt}\n",
        "\\end{bmatrix} = A \\begin{bmatrix}\n",
        "\\ x_1 \\\\\n",
        "\\ x_2\n",
        "\\end{bmatrix}  \n",
        "\\tag{3}$$\n"
      ]
    },
    {
      "cell_type": "markdown",
      "metadata": {
        "id": "42ptqWjfHdKH",
        "tags": []
      },
      "source": [
        "## Bonus story: Why 2D? \n",
        "A tale of a mathematical pendulum and auxilary variables\n",
        "<img src='https://upload.wikimedia.org/wikipedia/commons/thumb/8/83/Mathematical_pendulum.svg/950px-Mathematical_pendulum.svg.png' width=200px align='right'>\n"
      ]
    },
    {
      "cell_type": "markdown",
      "metadata": {
        "id": "UjnkHJBEKZzb"
      },
      "source": [
        "\n",
        "To get started with oscillations, let us consider another simple system that oscillates: a pendulum!\n",
        "\n",
        "The dynamics of the pendulum can be derived from first principles (Newton's laws of mechanics):\n",
        "\n",
        "$$\\ddot \\theta = - g \\sin(\\theta) \\approx -g \\theta$$\n",
        "\n",
        "which turns into a linear system if the oscillations are small ($\\theta \\ll 1$). We can further simplify the system by assuming $g=1$.\n",
        "\n",
        "This equation, however, contains a higher order derivative ($\\ddot \\theta$). How can we get rid of it?\n",
        "\n",
        "We can introduce an additional auxilary variable $\\omega = \\dot \\theta$, then:\n",
        "$$\\ddot \\theta = \\dot \\omega = -\\theta$$\n",
        "\n",
        "Now we have two equations that resemble (1), which we can combine into a single vector-valued equation for a state $\\mathbf{x} = [~\\theta,~\\omega~]^T$:\n",
        "\n",
        "$${\\begin{bmatrix}\n",
        "    \\dot \\theta \\\\\n",
        "    \\dot \\omega\n",
        "\\end{bmatrix}} = \\begin{bmatrix}\n",
        "    0 & 1 \\\\\n",
        "    -1 & 0\n",
        "\\end{bmatrix} \\begin{bmatrix}\n",
        "    \\theta \\\\\n",
        "    \\omega\n",
        "\\end{bmatrix} $$\n",
        "\n",
        "or simply:\n",
        "\n",
        "$$\\mathbf{\\dot x} = A \\mathbf{x}$$\n",
        "\n",
        "Looks similar to the 1D system in (1). Then how does it cause oscillations? 🤔 Let's find out.\n"
      ]
    },
    {
      "cell_type": "markdown",
      "metadata": {
        "id": "CRYnEyir1B9p",
        "tags": []
      },
      "source": [
        "## **Exercise 2:** Solving a 2D linear dynamics equation"
      ]
    },
    {
      "cell_type": "markdown",
      "metadata": {
        "id": "PYEkx4i3a4WV",
        "tags": []
      },
      "source": [
        "Fill in the missing line of code below to numerically integrate the eq. (3).\n",
        "\n",
        "*Hint: for matrix multiplication in python you can use @ sign*\n",
        "\n",
        "*Note:* the analytical solution of eq. (3) is given to you in the code. It involves matrix exponential. If you don't know what it is -- no worries, it is not important for this tutorial."
      ]
    },
    {
      "cell_type": "code",
      "execution_count": null,
      "metadata": {
        "id": "iKjR6PFOTIU_",
        "colab": {
          "referenced_widgets": [
            "cdcd067166014baebb9003d84094bd46"
          ]
        },
        "outputId": "3f981552-c139-44e4-f0d8-52f038f08896"
      },
      "outputs": [
        {
          "data": {
            "application/vnd.jupyter.widget-view+json": {
              "model_id": "cdcd067166014baebb9003d84094bd46",
              "version_major": 2,
              "version_minor": 0
            },
            "text/plain": [
              "interactive(children=(FloatSlider(value=0.0, description='phi0', max=1.0, min=-1.0), FloatSlider(value=0.0, de…"
            ]
          },
          "metadata": {},
          "output_type": "display_data"
        }
      ],
      "source": [
        "def analytical_2D_solution(x0,A,t):\n",
        "    ''' Finds a solution of x' = Ax, for x(t), given x(0) = x0 '''\n",
        "    xt = expm(A*t) @ x0 # this solution includes matrix exponential (https://en.wikipedia.org/wiki/Matrix_exponential)\n",
        "    return xt\n",
        "\n",
        "def numerical_2D_solution(x0,a,t,dt=0.01):\n",
        "    ''' Integrates x' = Ax using a forward Euler scheme, given x(0) = x0;\n",
        "    Returns x(t) '''\n",
        "    N = int(t//dt) # number of integration steps \n",
        "    xn = x0 # initial value of x_n\n",
        "    for n in range(N):\n",
        "        x_n_plus_1 = ... # TODO: write a discretized update rule following (1-2)\n",
        "        xn = x_n_plus_1  \n",
        "    return xn\n",
        "\n",
        "T = 10 # total duration\n",
        "n_plot = 100 # how many points to plot\n",
        "\n",
        "A = np.array([[0, 1], [-1, 0]])\n",
        "\n",
        "@widgets.interact\n",
        "def plot_2D_solutions(phi0 = (-1,1,0.1),\n",
        "                      omega0 = (-1,1,0.1)):\n",
        "    x0 = np.array([phi0, omega0])\n",
        "    fig, axes = plt.subplots(1,3,figsize=(12,2),gridspec_kw={'width_ratios': [2, 1, 2]})\n",
        "    time = np.linspace(0,T,n_plot)\n",
        "    analytical_traj = np.array([analytical_2D_solution(x0,A,t) for t in time])\n",
        "    numerical_traj = np.array([numerical_2D_solution(x0,A,t) for t in time])\n",
        "\n",
        "    axes[1].plot(*numerical_traj.T,c='k')\n",
        "    axes[1].plot(*analytical_traj.T,c='C1',linestyle=':')\n",
        "    axes[1].set_xlabel(r\"$\\theta$\")\n",
        "    axes[1].set_ylabel(r\"$\\omega = \\dot\\theta$\")\n",
        "    axes[1].set_xlim([-1.2,1.2])\n",
        "    for ax in axes:\n",
        "        ax.set_ylim([-1.2,1.2])\n",
        "\n",
        "    axes[0].plot(numerical_traj[:,0],c='k')\n",
        "    axes[0].plot(analytical_traj[:,0],c='C1',linestyle=':')\n",
        "    axes[0].set_xlabel(r\"time\")\n",
        "    axes[0].set_ylabel(r\"$\\theta$\")\n",
        "\n",
        "    axes[2].plot(numerical_traj[:,1],c='k',label='Numerical solution')\n",
        "    axes[2].plot(analytical_traj[:,1],c='C1',linestyle=':',label='Analytical solution')\n",
        "    axes[2].set_xlabel(r\"time\")\n",
        "    axes[2].set_ylabel(r\"$\\omega = \\dot\\theta$\")\n",
        "    axes[2].legend(loc=(1.2,0))\n",
        "\n",
        "    plt.subplots_adjust(left=None, bottom=.2, right=None, top=None, wspace=0.4, hspace=0.)"
      ]
    },
    {
      "cell_type": "markdown",
      "metadata": {
        "id": "cHFFvDETs291",
        "tags": []
      },
      "source": [
        "The plot in the middle is called a *phase portrait* in mechanics: you can see why if you change the angular velocity $\\omega$ and see how left/right plots change. This portrait exists in a *phase space* $[\\theta, \\omega]$.\n",
        "\n",
        "In physics, we can derive the dynamics equations from first principles, so we know that these two variables: position $\\theta$ and angular velocity $\\omega$, fully describe the **state** of the pendulum. Knowing the state, we know what happens next, because the system is **deterministic** (no noise in eq. (1) or (3)).\n",
        "Therefore, in a more general context, a minimal set of variables that describe the state of the system form a **state space**. \n",
        "\n",
        "<!-- However, in a more general context, the components of $x$ that describe the dynamics of the system can be anything! For instance, $x_1, x_2, \\ldots, x_n$ can correspond to activities of neurons in a neural network.    -->\n"
      ]
    },
    {
      "cell_type": "markdown",
      "metadata": {
        "id": "mv0UtLxzS8Uk"
      },
      "source": [
        "## Visualizing 2D dynamics: phase portraits"
      ]
    },
    {
      "cell_type": "markdown",
      "metadata": {
        "id": "eILlepzLTDd2"
      },
      "source": [
        "We have learned that if we know the state of the the system at any time point $t_0$, we can predict what happes next. We already integrated the dynamics eq. (3) given certain initial conditions and visualized some trajectories for a pendulum. But can we summarize and visualize all the possible states and transitions between them?"
      ]
    },
    {
      "cell_type": "markdown",
      "metadata": {
        "id": "JFBJonTdKZzc"
      },
      "source": [
        "### **Exercise 3.** Stream plot\n",
        "\n",
        "We can visualize the equation (3) using stream plots. For every state, equation (3) defines the derivative (i.e. where the system goes next), which we can visualize with arrows:\n"
      ]
    },
    {
      "cell_type": "code",
      "execution_count": null,
      "metadata": {
        "colab": {
          "base_uri": "https://localhost:8080/",
          "height": 248
        },
        "id": "yfeWdEMsVcks",
        "outputId": "b6edfbfd-8528-4082-c1fe-9c08c8976050"
      },
      "outputs": [
        {
          "data": {
            "image/png": "[encoded data removed]",
            "text/plain": [
              "<Figure size 300x300 with 1 Axes>"
            ]
          },
          "metadata": {},
          "output_type": "display_data"
        }
      ],
      "source": [
        "# Plotting phase portraits\n",
        "def plot_phase_portrait(A,n = 10, xlabel=r'$x_1$', ylabel=r'$x_2$', Alabel='A'):\n",
        "    '''\n",
        "    A: matrix 2x2\n",
        "    n: number of points in the n x n grid\n",
        "    '''\n",
        "    plt.figure(figsize=(3,3))\n",
        "    x1 = np.linspace(-1, 1, n) # a 1D grid\n",
        "    x = np.array(np.meshgrid(x1, x1)).reshape((2,-1)) # a 2D flattened grid\n",
        "    # calculate the time-derivative of the state x in the line below (eq. 3)\n",
        "    # the output shape should be [2 x n^2]\n",
        "    x_dot = ... \n",
        "    x_dot = x_dot.reshape((2,n,n))\n",
        "    plt.streamplot(x1,x1,*x_dot,color=np.linalg.norm(x_dot,axis=0),cmap='coolwarm',density=0.5)\n",
        "    plt.xlabel(xlabel)\n",
        "    plt.ylabel(ylabel);\n",
        "    plt.text(1.2,0,f'{Alabel} = ')\n",
        "    plt.text(1.7,-.15,f'{A[0,0]:.1f}, {A[0,1]:.1f} \\n{A[1,0]:.1f}, {A[1,1]:.1f}')\n",
        "    plt.xlim([-1,1])\n",
        "    plt.ylim([-1,1])\n",
        "    plt.clim(vmin=0,vmax=1)\n",
        "\n",
        "A = np.array([[0, 1], [-1, 0]]) # pendulum dynamics\n",
        "plot_phase_portrait(A, xlabel=r'$\\theta$', ylabel=r'$\\omega = \\dot\\theta$')"
      ]
    },
    {
      "cell_type": "markdown",
      "metadata": {
        "id": "b7dTSLXUYUDc"
      },
      "source": [
        "Following these streamlines in a figure above from some initial point $x_0$ step-by-step corresponds to integrating $\\int_{t_0}^{t} \\dot x(t) dt$ that we did in the previous exercise!\n",
        "\n",
        "Color here shows how fast the state evolves: cooler colors mean slower, warmer colors -- faster!\n",
        "(darkest blue: $|\\mathbf{\\dot x}| = 0$, brightest red: $|\\mathbf{\\dot x}| = 1$)\n",
        "\n",
        "Like in Izhekevich quote, we don't even need to write equation to tell how the system behaves 🤯"
      ]
    },
    {
      "cell_type": "markdown",
      "metadata": {
        "id": "x6iOBU-6f_dz"
      },
      "source": [
        "## Analysing multi-dimensional linear dynamical systems"
      ]
    },
    {
      "cell_type": "markdown",
      "metadata": {
        "id": "dwgf8dhygGZS"
      },
      "source": [
        "### Change of basis\n",
        "The pendulum example above is, perhaps, the simplest linear dynamical system in physics. Its phase portrait is symmetrical!\n",
        "\n",
        "But for other dynamical systems, with other matrices $A$, this might not be the case:"
      ]
    },
    {
      "cell_type": "code",
      "execution_count": null,
      "metadata": {
        "colab": {
          "base_uri": "https://localhost:8080/",
          "height": 248
        },
        "id": "if2U5CDUaj9x",
        "outputId": "e3624efe-09d3-4eee-93be-d0f1993f414c"
      },
      "outputs": [
        {
          "data": {
            "image/png": "[encoded data removed]",
            "text/plain": [
              "<Figure size 300x300 with 1 Axes>"
            ]
          },
          "metadata": {},
          "output_type": "display_data"
        }
      ],
      "source": [
        "np.random.seed(2)\n",
        "A = np.random.randn(2,2) # pick some values from N(0,1) for each component\n",
        "\n",
        "plot_phase_portrait(A)\n"
      ]
    },
    {
      "cell_type": "markdown",
      "metadata": {
        "id": "vDZ9Dj6LQ6fK"
      },
      "source": [
        "Looks very complicated! All elements in $A$ are non-zero, so each derivative $\\dot x_i$ depends on both $x_1$ and $x_1$. Can we make it better? Can we somehow split a 2D system into a combination of two 1D systems?\n",
        "\n",
        "We are now considering an abstract linear dynamical system, so the components $x_1$ and $x_2$ do not mean much... Can we stretch and rotate this space such that in these new coordinates $(\\hat x_1, \\hat x_2)$  the derivatives $d{\\hat x_i}/dt$ only depend on the respective component $x_i$ ? Or, in other words, can we change the basis to make the matrix $A$ diagonal?\n",
        "\n",
        "$$\\begin{bmatrix}\n",
        "\\frac{d\\hat x_1}{dt} \\\\\n",
        "\\frac{d\\hat x_2}{dt}\n",
        "\\end{bmatrix} = \\begin{bmatrix}\n",
        "a_1 & 0 \\\\\n",
        "0 & a_2\n",
        "\\end{bmatrix} \\begin{bmatrix}\n",
        "\\hat x_1 \\\\\n",
        "\\hat x_2\n",
        "\\end{bmatrix} = \\begin{bmatrix}\n",
        "a_1 \\hat x_1 \\\\\n",
        "a_2 \\hat x_2\n",
        "\\end{bmatrix}\n",
        "$$"
      ]
    },
    {
      "cell_type": "code",
      "execution_count": null,
      "metadata": {
        "colab": {
          "base_uri": "https://localhost:8080/",
          "height": 318,
          "referenced_widgets": [
            "5648a797aed342589f78a681cc5af1fe",
            "d85bdb8255814653ab5dc757e5f43c0d",
            "c7c22d334abe427ebee910c70a4c123b",
            "8a6fce326db949f88e7b55c3f3487f70",
            "68b62ef50e60483289484e22efa4ce28",
            "a9d84608039e47ee953546d5bf11d5b3",
            "7a8cdc67d07f4a2a9d8c845ab2a507a7",
            "fedf1d603b544099b2b99251723e58f4",
            "a4a3c0f2f6654ef7964a0f798a5347df",
            "0b41dd7e2b93493c929a680835a267c6",
            "94992e4896eb4e24a33fbcba68a2e9b5"
          ]
        },
        "id": "JM-JOpEvQ5OI",
        "outputId": "b39f5118-015f-4943-b352-ab9b4520e6cc"
      },
      "outputs": [
        {
          "data": {
            "application/vnd.jupyter.widget-view+json": {
              "model_id": "94992e4896eb4e24a33fbcba68a2e9b5",
              "version_major": 2,
              "version_minor": 0
            },
            "text/plain": [
              "interactive(children=(FloatLogSlider(value=1.0, description='stretch ↕', max=1.0, min=-1.0), FloatSlider(value…"
            ]
          },
          "metadata": {},
          "output_type": "display_data"
        }
      ],
      "source": [
        "S = np.eye(2)\n",
        "@widgets.interact\n",
        "def rotate_and_scale(stretch=widgets.FloatLogSlider(min=-1, max=+1, value=1.,description='stretch ↕'),\n",
        "                     rotate=widgets.FloatSlider(min=-90, max=+90, step=5 ,description='rotate ⤾')):\n",
        "    global S\n",
        "    a = rotate * np.pi / 180\n",
        "    S =  np.array([[np.cos(a),np.sin(a)],[-np.sin(a),np.cos(a)]]) @ np.array([[stretch,0],[0,1]])\n",
        "    plot_phase_portrait(S @ A @ np.linalg.inv(S),\n",
        "                      xlabel=r'$\\hat{x_1}$', ylabel=r'$\\hat{x_2}$', Alabel=r'$\\hat{A}$')\n"
      ]
    },
    {
      "cell_type": "markdown",
      "metadata": {
        "id": "VzGbCtBQR9PC"
      },
      "source": [
        "What we are doing above corresponds to this transformation:\n",
        "$$S \\mathbf{\\dot x} = SA\\mathbf{x} = SA\\underbrace{(S^{-1}S)}_{I}\\mathbf{x} = (SAS^{-1})S\\mathbf{x}$$\n",
        "or, in other words, we make the following change of coordinates (i.e. change of the basis):\n",
        "$$\\mathbf{x} \\rightarrow S\\mathbf{x} ~$$\n",
        "$$A \\rightarrow SAS^{-1}$$"
      ]
    },
    {
      "cell_type": "markdown",
      "metadata": {
        "id": "zxcPu65CU_4P"
      },
      "source": [
        "#### Think!\n",
        "Did you manage to align the *special* directions in the phase portrait above with the new axes? How does the new, transformed matrix $\\hat{A} = SAS^{-1}$ look like?"
      ]
    },
    {
      "cell_type": "markdown",
      "metadata": {
        "id": "6E6RWp7dtY6b"
      },
      "source": [
        "#### Real eigenvalues"
      ]
    },
    {
      "cell_type": "markdown",
      "metadata": {
        "id": "2qpJ7QCvVy2S"
      },
      "source": [
        "What we did above by rotating and stretching our phase space is the transformation of matrix $A$ into its *canonical form*. Everything is simpler in this form! The eigenvalues remain the same under stretching and rotation:\n",
        "\n",
        "$$\\hat{A}\\mathbf{\\hat{x}} = SA\\mathbf{x} = S\\lambda x = \\lambda \\mathbf{\\hat{x}}$$\n",
        "\n",
        "Could you tell what are the eigenvalues of $\\hat{A}$ without writing anything down?\n",
        "\n",
        "Now, check your guess by calculating the eigenvalues:\n"
      ]
    },
    {
      "cell_type": "code",
      "execution_count": null,
      "metadata": {
        "colab": {
          "base_uri": "https://localhost:8080/"
        },
        "id": "8rc4t1cfUCCZ",
        "outputId": "069173c6-39df-489f-a4fa-400a1716b620"
      },
      "outputs": [
        {
          "name": "stdout",
          "output_type": "stream",
          "text": [
            "Eigenvalues of A    : [-0.47361843  1.69713139]\n",
            "Eigenvalues of A_hat: [-0.47361843  1.69713139]\n"
          ]
        }
      ],
      "source": [
        "A_hat = S @ A @ np.linalg.inv(S)\n",
        "print('Eigenvalues of A    :', np.linalg.eig(A)[0])\n",
        "print('Eigenvalues of A_hat:', np.linalg.eig(A_hat)[0])"
      ]
    },
    {
      "cell_type": "markdown",
      "metadata": {
        "id": "5OeSIGu0equz"
      },
      "source": [
        "Now let us experiment with the eigenvalues and understand what they *mean* in the dynamical system:"
      ]
    },
    {
      "cell_type": "code",
      "execution_count": null,
      "metadata": {
        "colab": {
          "base_uri": "https://localhost:8080/",
          "height": 312,
          "referenced_widgets": [
            "6660cc73736e4729a8e112e781f04ed9",
            "cb5ef1821f47464fb19926f6ef19b1c5",
            "465f52dfa753475488ded7f1c3ffb0b9",
            "05bf6f397356466583a124970cf33f0a",
            "bcaabba3a76143fea99a45be489862d0",
            "f6a29122d2dd48a4b42c353bf78b439d",
            "6b1e848cf5214f289ee017e0214e8dc9",
            "d8fbf868d4ef4f1aa3b416a9ff2f29d6",
            "bd83cf53ebb848dc8caa66e77c52be7c",
            "97e717ca46254199a1760d6971aebebe",
            "3f39f5ec63e74eb3944cfacc8ad80fff"
          ]
        },
        "id": "Z8CeIjn5Z2KN",
        "outputId": "85239da0-9078-4e9e-a23f-f2a1afd6d708"
      },
      "outputs": [
        {
          "data": {
            "application/vnd.jupyter.widget-view+json": {
              "model_id": "3f39f5ec63e74eb3944cfacc8ad80fff",
              "version_major": 2,
              "version_minor": 0
            },
            "text/plain": [
              "interactive(children=(FloatSlider(value=0.0, description='λ1', max=1.0, min=-1.0), FloatSlider(value=0.0, desc…"
            ]
          },
          "metadata": {},
          "output_type": "display_data"
        }
      ],
      "source": [
        "@widgets.interact\n",
        "def rotate_and_scale(lambda_1=widgets.FloatSlider(min=-1, max=+1, description='λ1'),\n",
        "                     lambda_2=widgets.FloatSlider(min=-1, max=+1, description='λ2')):\n",
        "    lambda_1 = lambda_1 if type(lambda_1)==float else lambda_1.value\n",
        "    lambda_2 = lambda_2 if type(lambda_2)==float else lambda_2.value\n",
        "    if lambda_1==0 and lambda_2==0:\n",
        "        lambda_1 = -1e-10\n",
        "    A_12 = np.array([[lambda_1, 0],\n",
        "                [0, lambda_2]])\n",
        "    plot_phase_portrait(A_12)\n"
      ]
    },
    {
      "cell_type": "markdown",
      "metadata": {
        "id": "jurO9-jFnwus"
      },
      "source": [
        "Indeed, in a canonical form, the 2D system with two real eigenvalues splits into two independent 1D dynamical systems:\n",
        "$\\dot x_i = \\lambda_i x_i, i \\in \\{0,1\\}.$ So, each eigenvalue here changes the dynamics along its eigenvector the same way as the parameter $a$ in Example 1."
      ]
    },
    {
      "cell_type": "markdown",
      "metadata": {
        "id": "EZ8BnuxTpHg0"
      },
      "source": [
        "The eigenvectors are trivial in the canonical form: they are just aligned with axes!\n",
        "\n",
        "So, in order to find eigenvectors of the original evolution matrix $A$, we simply need to reverse the rotation and stretching:"
      ]
    },
    {
      "cell_type": "code",
      "execution_count": null,
      "metadata": {
        "colab": {
          "base_uri": "https://localhost:8080/"
        },
        "id": "waP_Yj2GpiT-",
        "outputId": "57905402-c3a2-4245-f895-b7a00bc6cbc8"
      },
      "outputs": [
        {
          "name": "stdout",
          "output_type": "stream",
          "text": [
            "Trivial eigenvectors of A_hat: [[-0.7 -0.7]\n",
            " [ 0.  -1. ]]\n",
            "Eigenvectors of A: [[-0.7  -0.71]\n",
            " [ 0.03 -1.  ]]\n",
            "Vectors derived from transformation: [[1. 0.]\n",
            " [0. 1.]]\n"
          ]
        }
      ],
      "source": [
        "A_hat = S @ A @ np.linalg.inv(S)\n",
        "print('Trivial eigenvectors of A_hat:', np.round(np.linalg.eig(A_hat)[1].T,1))\n",
        "print('Eigenvectors of A:', np.round(np.linalg.eig(A)[1].T,2))\n",
        "S_inv = np.linalg.inv(S) # invert the transform\n",
        "S_inv_norm = S_inv / np.linalg.norm(S_inv,axis=0)\n",
        "print('Vectors derived from transformation:', np.round(S_inv_norm.T,2))"
      ]
    },
    {
      "cell_type": "markdown",
      "metadata": {
        "id": "7WrGlWwitJr8"
      },
      "source": [
        "The above vectors should be the almost identical (up to a sign)."
      ]
    },
    {
      "cell_type": "markdown",
      "metadata": {
        "id": "CWSBrtaMtXkk"
      },
      "source": [
        "#### Complex eigenvalues"
      ]
    },
    {
      "cell_type": "markdown",
      "metadata": {
        "id": "jUG_eBfrxgzn"
      },
      "source": [
        "From a characteristic polynomial, we know that the eigenvalues can be complex (as $\\lambda = \\lambda_{real} + i \\lambda_{imag}$). We also found that eigenvalues connect high-dimensional systems (e.g. 2D) with some lower-dimensional (e.g. 1D) dynamic modes. Let us go back to a 1D system and try to make a coefficient $a$ complex."
      ]
    },
    {
      "cell_type": "markdown",
      "metadata": {
        "id": "osgyZ9Nj0_LQ"
      },
      "source": [
        "#### What if $a$ is complex-valued?"
      ]
    },
    {
      "cell_type": "markdown",
      "metadata": {
        "id": "Xcd8cBTmCHPB"
      },
      "source": [
        "In the exercise 1 we found that analytical solution is:\n",
        "$$x(t) = x_0 e^{at} $$\n",
        "but what if $a$ is complex?\n",
        "\n",
        "Let us substitute $a$ with $a_{real} + i a_{imag}$, then:\n",
        "$$x(t) = x_0 e^{a_{real}t} e^{i a_{imag} t} $$\n",
        "\n",
        "This new solution is a product of the solution that we have seen previously and a new term $e^{i a_{imag} t}$.\n",
        "\n",
        "Let us generate some trajectories and see what happens:\n"
      ]
    },
    {
      "cell_type": "code",
      "execution_count": null,
      "metadata": {
        "colab": {
          "base_uri": "https://localhost:8080/",
          "height": 391,
          "referenced_widgets": [
            "a8dcb0808fd34218ada9626368448399",
            "197fc4afe96b4012a14d79312fe3eec7",
            "2210f34f6f7940d7b0dc90370bb0f04c",
            "eca71e3132e543708d2500049571d066",
            "58338cd1b1a64c4ca5a238264ac0c8ea",
            "bffc059c9ad44b59a2fe4aed07b4a24f",
            "931262ce33e0456aa76692529d783cdd",
            "a265a9ae79c34f25b033e8a23be0e5f0",
            "7be52a01ccbe47bfae0276571e93bf1c",
            "fa3c97f1e7174690aae9475214042671",
            "1bbd364ad7d143e6b5938e65456ce8bf",
            "715f2ecc64cf4239b794c4e3d108dba7",
            "6dfd4b45622f4298a7998bc7e8c76130"
          ]
        },
        "id": "-OCLpgAhA2od",
        "outputId": "e05611df-a1f5-4ef8-a95b-862722169468"
      },
      "outputs": [
        {
          "data": {
            "image/png": "[encoded data removed]",
            "text/plain": [
              "<Figure size 432x288 with 1 Axes>"
            ]
          },
          "metadata": {
            "needs_background": "light"
          },
          "output_type": "display_data"
        }
      ],
      "source": [
        "@widgets.interact\n",
        "def plot_1D_solutions(x0 = 1., \n",
        "                      a_real = widgets.FloatSlider(min=-1., max=1., step=.1, value=0),\n",
        "                      a_imag = widgets.FloatSlider(min=-1, max=5, step=.1, value=1)):\n",
        "    a_real = a_real if type(a_real)==float else a_real.value\n",
        "    a_imag = a_imag if type(a_imag)==float else a_imag.value\n",
        "    a = complex(a_real,a_imag)\n",
        "    plt.figure()\n",
        "    time = np.linspace(0,T,n_plot)\n",
        "    plt.plot(time, [analytical_1D_solution(x0,a,t).real for t in time],label='Solution (real part)')\n",
        "    plt.plot(time, [analytical_1D_solution(x0,a,t).imag for t in time],label='Solution (imag part)')\n",
        "    plt.xlim([0,T])\n",
        "    plt.ylim([-5,5])\n",
        "    plt.axhline(0,c='k',linestyle=':')\n",
        "    plt.xlabel('time')\n",
        "    plt.ylabel('state x')\n",
        "    plt.legend(loc='lower left')\n"
      ]
    },
    {
      "cell_type": "markdown",
      "metadata": {
        "id": "3zzMK8fmEjJH"
      },
      "source": [
        " Let us recall that $e^{i a_{imag} t} = \\cos(a_{imag} t) + i\\sin(a_{imag} t)$ (*Euler's formula*).\n",
        "\n",
        " So the whole solution looks like:\n",
        " $$x(t) = \\underbrace{x_0 e^{a_{real} t} \\cos(a_{imag}t)}_\\mathrm{real~part} + \\underbrace{i x_0 e^{a_{real} t} \\sin(a_{imag}t)}_\\mathrm{imaginary~part}$$\n"
      ]
    },
    {
      "cell_type": "markdown",
      "metadata": {
        "id": "rtrUqImVKZze"
      },
      "source": [
        "Let us return to the pendulum. What are the eigenvalues and eigenvectors for that 2D system?"
      ]
    },
    {
      "cell_type": "code",
      "execution_count": null,
      "metadata": {
        "colab": {
          "base_uri": "https://localhost:8080/"
        },
        "id": "KKXWSV7hj-LJ",
        "outputId": "8a6301be-d179-4d5e-a40e-1d2a789d88bc"
      },
      "outputs": [
        {
          "data": {
            "text/plain": [
              "(array([0.+1.j, 0.-1.j]),\n",
              " array([[0.70710678+0.j        , 0.70710678-0.j        ],\n",
              "        [0.        +0.70710678j, 0.        -0.70710678j]]))"
            ]
          },
          "execution_count": 12,
          "metadata": {},
          "output_type": "execute_result"
        }
      ],
      "source": [
        "A = np.array([[0, 1], [-1, 0]])\n",
        "np.linalg.eig(A)"
      ]
    },
    {
      "cell_type": "markdown",
      "metadata": {
        "id": "rdw28x8xDkfQ"
      },
      "source": [
        "#### Exercise 3: period of oscillations\n",
        "\n",
        "What is the period of oscillations, based on these eigenvalues?"
      ]
    },
    {
      "cell_type": "markdown",
      "metadata": {
        "id": "SGXnn2WUjgag"
      },
      "source": [
        "#### Exercise 4. Zero eigenvalues\n",
        "\n",
        "So far, we only looked at a full rank matrices $A$: such matrices that have all non-zero eigenvectors. What if one of them is actually zero?"
      ]
    },
    {
      "cell_type": "code",
      "execution_count": null,
      "metadata": {
        "colab": {
          "base_uri": "https://localhost:8080/",
          "height": 312,
          "referenced_widgets": [
            "225863f7e6d540f8b83d3df77e3bfa26",
            "b64c80e9d34f4602a99a125f98d5148e",
            "169a1616828e4c7a8656c57d484ea911",
            "8a5033be98b8490cb0da4ee2fe5fdb96",
            "1659ee96e9ec4c02aee37ab3137aa3a5",
            "13e2c86a8c614f8ea18d7fe5da443539",
            "a6a8e616a76842e882ddf2add33a5a34",
            "56fafbbb9be54ce9b1b7f1d7515956e7",
            "97c7ec92043f46f4b46d4c86587b8321",
            "f9ab89ec710f4fad96eca86fc9a25354"
          ]
        },
        "id": "kJWsZ2Tc6Z85",
        "outputId": "0ad22b42-bf81-43ef-a141-cdee722380b0"
      },
      "outputs": [
        {
          "data": {
            "image/png": "[encoded data removed]",
            "text/plain": [
              "<Figure size 216x216 with 1 Axes>"
            ]
          },
          "metadata": {
            "needs_background": "light"
          },
          "output_type": "display_data"
        }
      ],
      "source": [
        "@widgets.interact\n",
        "def rotate_and_scale(lambda_1=widgets.FloatSlider(min=-1, max=+1, description='λ1'),\n",
        "                     lambda_2=widgets.FloatSlider(min=-1, max=+1, description='λ2')):\n",
        "    lambda_1 = lambda_1 if type(lambda_1)==float else lambda_1.value\n",
        "    lambda_2 = lambda_2 if type(lambda_2)==float else lambda_2.value\n",
        "    if lambda_1==0 and lambda_2==0:\n",
        "        lambda_1 = -1e-10\n",
        "    A_12 = np.array([[lambda_1, 0],\n",
        "                [0, lambda_2]])\n",
        "    plot_phase_portrait(A_12)"
      ]
    },
    {
      "cell_type": "markdown",
      "metadata": {
        "id": "zvQxaNLLbeXb",
        "jp-MarkdownHeadingCollapsed": true,
        "tags": []
      },
      "source": [
        "### Fixed points and stability\n",
        "\n",
        "**Fixed points** are the points that remain unchanged in time, meaning that the time derivative $\\mathbf{\\dot x}=\\mathbf{0}$ there. There is only one such point in the linear systems which we considered above, which is $\\mathbf{x}=\\mathbf{0}$.\n",
        "\n",
        "Fixed points can be stable and unstable. Stable means that once the state gets near the fixed point it will only get closer to it in the future (*more precisely it is called assymptotic stability*). Unstable means the opposite: the state only gets further away. The system can also be marginally stable, if it is neither stable nor unstable. \n",
        "\n",
        "A set of stable fixed points of a dynamical system is also called an **attractor**, while a set of unstable points -- a **repeller**.\n",
        "\n",
        "### Exercise 5. Condition for stability?\n",
        "*Hint: revise the 1D solutions and think about how the system behaves along the eigenvectors*\n",
        "\n",
        "If 2x2 matrix $A$ has two eigenvalues: $\\lambda_1$ and $\\lambda_2$, what are the conditions for being 1) stable? 2) unstable?"
      ]
    },
    {
      "cell_type": "markdown",
      "metadata": {
        "id": "DO5ql9-vtk0H"
      },
      "source": [
        "### Summary\n",
        "\n",
        "We have explored DS with real-valued, complex and zero eigenvalues. And that is all possible dynamics one can get in 2D with a linear DS!\n",
        "\n",
        "We can summarize all dynamic regimes in a single plot:\n",
        "\n",
        "![Classification of Phase Portraits](https://drive.google.com/uc?export=view&id=1zvbMnqnSFiss3GF_yfUo83NxOD_WXZtK)\n",
        "\n",
        "here $\\Delta = (\\lambda_1 - \\lambda_2)^2$ sets the boundary between real-valued and complex-valued eigenvalues (you can also derive it from a characteristic polynomial)"
      ]
    },
    {
      "cell_type": "markdown",
      "metadata": {
        "id": "svmBduOG_52v"
      },
      "source": [
        "### **Exercise 6** : relationship between continuous time and discrete time linear dynamical systems\n",
        "\n",
        "Dynamical systems are systems that **evolve** in time. \n",
        "When modelling dynamics, we can represent time in two different ways: *discrete* or *continuous*. In both cases, we can write down the evolution of the system as a function of its previous `state' $\\mathbf{x}$ and external inputs that the system receives $\\mathbf{u}$:\n",
        "\n",
        "Discrete time systems               |           Continuous time systems\n",
        "------------------------------------|-------------------------------------\n",
        " $$\\mathbf{x}_{t+1} = F_d(\\mathbf{x}_t,\\mathbf{u}_t)$$           |    $$\\frac{d\\mathbf{x}(t)}{dt} = F_c(\\mathbf{x}(t),\\mathbf{u}(t))$$\n",
        " \n",
        "\n",
        "In the exercise above we were visualizing phase planes for the *continuous-time* dynamical systems. It is convinient, because there exists a derivative $\\mathbf{\\dot x}$, which we were plotting with streamplots.\n",
        "\n",
        "However, when it comes to **numerical** integration, we typically use discrete time steps. We already applied one such discretization ( a forward Euler scheme) in Exercise 1.\n",
        "\n",
        "Discrete time LDS               |           Continuous time LDS\n",
        "------------------------------------|-------------------------------------\n",
        " $$\\mathbf{x}_{t+1} = A_d \\mathbf{x}_t$$           |    $$\\frac{d\\mathbf{x}(t)}{dt} = A_c\\mathbf{x}(t)$$"
      ]
    },
    {
      "cell_type": "markdown",
      "metadata": {
        "id": "BU_kKlfq9VxK"
      },
      "source": [
        "### Exercise 6a: Relationship between evolution matrices\n",
        "\n",
        "In this exercise, let us find the relationship between the continuous-time evolution matrix $A_c$ and the discrete-time matrix $A_d$ using forward Euler discretization. If we discretize the continuous system, then what would be the equivalent of a matrix $A_d$ in a discretized version?"
      ]
    },
    {
      "cell_type": "markdown",
      "metadata": {
        "id": "BIxBY1jR8svT"
      },
      "source": [
        "### Exercise 6b: Relationship between eigenspectra*\n",
        "\\**difficult exercise, you can check the solution if no time*\n",
        "\n",
        "What eigenvalues of matrices $A_c$ and $A_d$ define a marginally stable system (that neither explodes, nor collapses)? Draw both margins of stability on a complex plane."
      ]
    },
    {
      "cell_type": "code",
      "execution_count": null,
      "metadata": {
        "colab": {
          "base_uri": "https://localhost:8080/",
          "height": 241
        },
        "id": "c5Fmk3SCBFZ1",
        "outputId": "f10b3b60-8574-4821-c40c-9a7e2b670e10"
      },
      "outputs": [
        {
          "data": {
            "image/png": "[encoded data removed]",
            "text/plain": [
              "<Figure size 468x216 with 2 Axes>"
            ]
          },
          "metadata": {
            "needs_background": "light"
          },
          "output_type": "display_data"
        }
      ],
      "source": [
        "fig,ax = plt.subplots(1,2, figsize=(6.5,3))\n",
        "ax[0].set_title('Continuous')\n",
        "ax[0].axvline(0)\n",
        "ax[0].text(-1,0.0,'Stable')\n",
        "ax[0].text(1,0.0,'Unstable',horizontalalignment='right')\n",
        "\n",
        "ax[1].set_title('Discrete')\n",
        "a = np.linspace(-np.pi,+np.pi,100)\n",
        "ax[1].plot(np.sin(a),np.cos(a))\n",
        "ax[1].text(0,0.0,'Stable',horizontalalignment='center')\n",
        "ax[1].text(0.5,-1,'Unstable',horizontalalignment='left')\n",
        "\n",
        "for a in ax:\n",
        "  a.set_xlim(-1.2,1.2)\n",
        "  a.set_ylim(-1.2,1.2)"
      ]
    },
    {
      "cell_type": "markdown",
      "metadata": {
        "id": "9g5YLxpWNo0h"
      },
      "source": [
        "## **Exercise 7 (bonus):** practice reading eigenspectra from papers"
      ]
    },
    {
      "cell_type": "markdown",
      "metadata": {
        "id": "fui5GF6-KQCX"
      },
      "source": [
        "\n",
        "### A spectrum of a continuous linearized E-I network\n",
        "\n",
        "How does this continuous system behave? \n",
        "What dynamic modes do these eigenvalues describe?\n",
        "Which eigenvalues are dominant?\n",
        "\n",
        "![spectrum1](https://drive.google.com/uc?export=view&id=1OHb8jNNET8VFcBZtPhVCEqVBV8jmLguC)"
      ]
    },
    {
      "cell_type": "markdown",
      "metadata": {
        "id": "9XCGaSF3J7_h"
      },
      "source": [
        "**Answer** (from the original paper): The spectrum shows a conjugate complex eigenvalue pair with large real part. This pair of eigenvalues dominates the dynamics as their real parts are close to 1 and leads to the **periodic behaviour**.\n",
        "\n",
        "The 'Balance' eigenvalue corresponds to a relaxation mode (decaying), and 'Random-like' mode corresponds to a degenerate dynamics akin to line attractor. \n",
        "\n",
        "*Maes, Amadeus, Mauricio Barahona, and Claudia Clopath. \"Learning spatiotemporal signals using a recurrent spiking network that discretizes time.\" PLoS computational biology 16.1 (2020): e1007606.*\n"
      ]
    },
    {
      "cell_type": "markdown",
      "metadata": {
        "id": "qIm6cjLqfaWB"
      },
      "source": [
        "## Summary\n",
        "\n",
        "In this tutorial, we learned:\n",
        "\n",
        "1. What linear systems can and can not do\n",
        "2. What fixed points are and how to check their stability\n",
        "3. How to read eigenspectra of the dynamic state transition matrix\n",
        "\n",
        "Now together we'll conclude:\n",
        "4. How to relate the dynamics to computations on inputs (whiteboard)\n"
      ]
    },
    {
      "cell_type": "markdown",
      "metadata": {
        "id": "H19D2ahHdTkK"
      },
      "source": [
        "# Projects (sorted from simpler to more complicated)\n",
        "\n",
        "**Beginner (static):**\n",
        "Generate your own neuronal network (function provided), but now with the responses to 2 stimuli, that evoke different average responses. Apply PCA, make a scree plot. How many dimensions do we need to explain the data? Select an optimal number of components (elbo) How well can we reconstruct the data from these components?\n",
        "\n",
        "**Beginner (dynamic):**  Follow the bonus part of the tutorial to explore how the nonlinear dynamics of the Hodgkin-Huxley equation gives rise to action potentials. Using the phase portraits and nullclines (explined in the notebook), explain how the change of the voltage threshold affects the system and the number of fixed points.\n",
        "\n",
        "**Intermediate (static):**\n",
        "Visualize a hand movement task $[\\mathrm{trials} \\times \\mathrm{time} \\times \\mathrm{neurons}]$ in a PCA space in 2 ways:\n",
        "1. Calculate time-average responses per trial $[\\mathrm{trials} \\times \\mathrm{neurons}]$ and reduce the neuronal population responses to a few dimensions. Visualize the result and label (color-code) different hand-reaching targets. Do they separate in the PC space?\n",
        "2. Treat every timepoint independently $[(\\mathrm{trials} \\cdot \\mathrm{time}) \\times \\mathrm{neurons}]$, apply PCA, connect the dots to visualize the *trajectories* in the latent space. Do they separate well in the PC space?\n",
        "\n",
        "TODO: check part3 notebook\n",
        "\n",
        "**Intermediate (dynamic):**  In this tutorial we considered mostly autonomous dynamical systems, including a line attractor. Although, a line attractor has interesting input-processing properties: it can integrate inputs! Implement a 2D line attractor with 1D external input (e.g. white noise):\n",
        "$$\\mathbf{\\dot x} = A\\mathbf{x} + B\\mathbf{u} + \\mathbf{b}$$\n",
        "and demonstrate input integration. What should be the relationship between matrices $A$ and $B$ for integration to work?\n",
        "\n",
        "**Intermediate (dynamic):** Between linear and non-linear models of dynamics, there is an intermediate class of models: piecewise-linear models. These models are linear within a certain area of a phase plane, but can generally exhibit quite complex behavior. Consider a 2D dynamical system:\n",
        "\n",
        "$$\\mathbf{\\dot x} = {\\begin{bmatrix}\n",
        "    \\dot x_1 \\\\\n",
        "    \\dot x_2\n",
        "\\end{bmatrix}} = \\begin{cases} \n",
        "      A_-\\mathbf{x} + \\mathbf{b_-} & x_1 < 0 \\\\\n",
        "      A_+\\mathbf{x} + \\mathbf{b_+} & x_1 \\geq 0 \n",
        "   \\end{cases} $$\n",
        "\n",
        "Implement this system and analyse its phase portrait and trajectories in the phase space. \n",
        "\n",
        "How does the stability depend on the parameters of the model? What is the period of oscillations?\n",
        "\n",
        "Extra question$^*$: is it possible to obtain a figure-of-eight trajectory in such system?\n",
        "\n",
        "**Hard (static):** Allen Brain data analysis (starter notebook will be provided; result -- high risk)\n",
        "Calculate noise correlations during visual stimulus presentations on Allen Brain data. Using PCA, identify the ensambles in the neuronal population, which work together. \n",
        " TODO: Ask Tom for an ensemble link\n",
        "\n",
        "**Hard to extra-hard (both):** Merging dynamics with PCA\n",
        "Generate observations from a linear dynamical system. Reduce the dimensionality and visualize the trajectories? Is the characteristic dynamics evident from the PC space? Explore the result for different eigenspectra.\n",
        "*Potential extension for the second project:* infer the dynamics from the observed first PC components.\n",
        "\n",
        " "
      ]
    },
    {
      "cell_type": "markdown",
      "metadata": {
        "id": "kblnhvBQ9GvC"
      },
      "source": [
        "# References\n",
        "\n",
        "1. Izhikevich, Eugene M. [Dynamical systems in neuroscience.](https://www.izhikevich.org/publications/dsn.pdf) MIT press, 2007.\n",
        "\n",
        "2. Gerstner, Wulfram, et al. [Neuronal dynamics](https://neuronaldynamics.epfl.ch/index.html): From single neurons to networks and models of cognition. Cambridge University Press, 2014.\n",
        "\n",
        "<!-- ## Other great tutorials: -->\n",
        "3. Linear dynamical systems by Bing Wen Brunton and Alice Schwarze [Neuromatch: W2D2](https://compneuro.neuromatch.io/tutorials/W2D2_LinearSystems/student/W2D2_Tutorial1.html), 2020-now"
      ]
    },
    {
      "cell_type": "code",
      "execution_count": null,
      "metadata": {
        "id": "_6P_8snoKZzg"
      },
      "outputs": [],
      "source": []
    }
  ],
  "metadata": {
    "colab": {
      "collapsed_sections": [
        "5e6LtQ4p-B8U",
        "240PYpGQF9XH",
        "DO5ql9-vtk0H",
        "udXVsH6B8tfL",
        "WFHVKE6IAVqy",
        "qIm6cjLqfaWB",
        "lOUo8icZuhI2",
        "lvj5ekalAw2y",
        "dhCZE54EA9Sc",
        "32pRn7au6len",
        "H19D2ahHdTkK",
        "jE2TTKmgzwIP",
        "kblnhvBQ9GvC"
      ],
      "provenance": [],
      "toc_visible": true,
      "include_colab_link": true
    },
    "kernelspec": {
      "display_name": "Python 3 (ipykernel)",
      "language": "python",
      "name": "python3"
    },
    "language_info": {
      "codemirror_mode": {
        "name": "ipython",
        "version": 3
      },
      "file_extension": ".py",
      "mimetype": "text/x-python",
      "name": "python",
      "nbconvert_exporter": "python",
      "pygments_lexer": "ipython3",
      "version": "3.8.16"
    },
    "widgets": {
      "application/vnd.jupyter.widget-state+json": {
        "05bf6f397356466583a124970cf33f0a": {
          "model_module": "@jupyter-widgets/output",
          "model_module_version": "1.0.0",
          "model_name": "OutputModel",
          "state": {
            "_dom_classes": [],
            "_model_module": "@jupyter-widgets/output",
            "_model_module_version": "1.0.0",
            "_model_name": "OutputModel",
            "_view_count": null,
            "_view_module": "@jupyter-widgets/output",
            "_view_module_version": "1.0.0",
            "_view_name": "OutputView",
            "layout": "IPY_MODEL_97e717ca46254199a1760d6971aebebe",
            "msg_id": "",
            "outputs": [
              {
                "data": {
                  "image/png": "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\n",
                  "text/plain": "<Figure size 216x216 with 1 Axes>"
                },
                "metadata": {
                  "needs_background": "light"
                },
                "output_type": "display_data"
              }
            ]
          }
        },
        "0b41dd7e2b93493c929a680835a267c6": {
          "model_module": "@jupyter-widgets/base",
          "model_module_version": "1.2.0",
          "model_name": "LayoutModel",
          "state": {
            "_model_module": "@jupyter-widgets/base",
            "_model_module_version": "1.2.0",
            "_model_name": "LayoutModel",
            "_view_count": null,
            "_view_module": "@jupyter-widgets/base",
            "_view_module_version": "1.2.0",
            "_view_name": "LayoutView",
            "align_content": null,
            "align_items": null,
            "align_self": null,
            "border": null,
            "bottom": null,
            "display": null,
            "flex": null,
            "flex_flow": null,
            "grid_area": null,
            "grid_auto_columns": null,
            "grid_auto_flow": null,
            "grid_auto_rows": null,
            "grid_column": null,
            "grid_gap": null,
            "grid_row": null,
            "grid_template_areas": null,
            "grid_template_columns": null,
            "grid_template_rows": null,
            "height": null,
            "justify_content": null,
            "justify_items": null,
            "left": null,
            "margin": null,
            "max_height": null,
            "max_width": null,
            "min_height": null,
            "min_width": null,
            "object_fit": null,
            "object_position": null,
            "order": null,
            "overflow": null,
            "overflow_x": null,
            "overflow_y": null,
            "padding": null,
            "right": null,
            "top": null,
            "visibility": null,
            "width": null
          }
        },
        "0c4808d53df7407188a7ebb897e8a036": {
          "model_module": "@jupyter-widgets/base",
          "model_module_version": "1.2.0",
          "model_name": "LayoutModel",
          "state": {
            "_model_module": "@jupyter-widgets/base",
            "_model_module_version": "1.2.0",
            "_model_name": "LayoutModel",
            "_view_count": null,
            "_view_module": "@jupyter-widgets/base",
            "_view_module_version": "1.2.0",
            "_view_name": "LayoutView",
            "align_content": null,
            "align_items": null,
            "align_self": null,
            "border": null,
            "bottom": null,
            "display": null,
            "flex": null,
            "flex_flow": null,
            "grid_area": null,
            "grid_auto_columns": null,
            "grid_auto_flow": null,
            "grid_auto_rows": null,
            "grid_column": null,
            "grid_gap": null,
            "grid_row": null,
            "grid_template_areas": null,
            "grid_template_columns": null,
            "grid_template_rows": null,
            "height": null,
            "justify_content": null,
            "justify_items": null,
            "left": null,
            "margin": null,
            "max_height": null,
            "max_width": null,
            "min_height": null,
            "min_width": null,
            "object_fit": null,
            "object_position": null,
            "order": null,
            "overflow": null,
            "overflow_x": null,
            "overflow_y": null,
            "padding": null,
            "right": null,
            "top": null,
            "visibility": null,
            "width": null
          }
        },
        "0d1c8d5110954d769ab8b622b6043671": {
          "model_module": "@jupyter-widgets/controls",
          "model_module_version": "1.5.0",
          "model_name": "VBoxModel",
          "state": {
            "_dom_classes": [
              "widget-interact"
            ],
            "_model_module": "@jupyter-widgets/controls",
            "_model_module_version": "1.5.0",
            "_model_name": "VBoxModel",
            "_view_count": null,
            "_view_module": "@jupyter-widgets/controls",
            "_view_module_version": "1.5.0",
            "_view_name": "VBoxView",
            "box_style": "",
            "children": [
              "IPY_MODEL_d593cdb684a14459a87234dd302af4f5",
              "IPY_MODEL_515c4413dfa04ab980eca7d14234fb39",
              "IPY_MODEL_3bbfa1f4655e4402b15a2856dccd2b6d",
              "IPY_MODEL_95fa22b4bcc144a98b99f4e3276660f0"
            ],
            "layout": "IPY_MODEL_ee537d4f32f44b2fb8849f35c8492540"
          }
        },
        "0fe0f5f85f624044b760515425eaa517": {
          "model_module": "@jupyter-widgets/base",
          "model_module_version": "1.2.0",
          "model_name": "LayoutModel",
          "state": {
            "_model_module": "@jupyter-widgets/base",
            "_model_module_version": "1.2.0",
            "_model_name": "LayoutModel",
            "_view_count": null,
            "_view_module": "@jupyter-widgets/base",
            "_view_module_version": "1.2.0",
            "_view_name": "LayoutView",
            "align_content": null,
            "align_items": null,
            "align_self": null,
            "border": null,
            "bottom": null,
            "display": null,
            "flex": null,
            "flex_flow": null,
            "grid_area": null,
            "grid_auto_columns": null,
            "grid_auto_flow": null,
            "grid_auto_rows": null,
            "grid_column": null,
            "grid_gap": null,
            "grid_row": null,
            "grid_template_areas": null,
            "grid_template_columns": null,
            "grid_template_rows": null,
            "height": null,
            "justify_content": null,
            "justify_items": null,
            "left": null,
            "margin": null,
            "max_height": null,
            "max_width": null,
            "min_height": null,
            "min_width": null,
            "object_fit": null,
            "object_position": null,
            "order": null,
            "overflow": null,
            "overflow_x": null,
            "overflow_y": null,
            "padding": null,
            "right": null,
            "top": null,
            "visibility": null,
            "width": null
          }
        },
        "13e2c86a8c614f8ea18d7fe5da443539": {
          "model_module": "@jupyter-widgets/base",
          "model_module_version": "1.2.0",
          "model_name": "LayoutModel",
          "state": {
            "_model_module": "@jupyter-widgets/base",
            "_model_module_version": "1.2.0",
            "_model_name": "LayoutModel",
            "_view_count": null,
            "_view_module": "@jupyter-widgets/base",
            "_view_module_version": "1.2.0",
            "_view_name": "LayoutView",
            "align_content": null,
            "align_items": null,
            "align_self": null,
            "border": null,
            "bottom": null,
            "display": null,
            "flex": null,
            "flex_flow": null,
            "grid_area": null,
            "grid_auto_columns": null,
            "grid_auto_flow": null,
            "grid_auto_rows": null,
            "grid_column": null,
            "grid_gap": null,
            "grid_row": null,
            "grid_template_areas": null,
            "grid_template_columns": null,
            "grid_template_rows": null,
            "height": null,
            "justify_content": null,
            "justify_items": null,
            "left": null,
            "margin": null,
            "max_height": null,
            "max_width": null,
            "min_height": null,
            "min_width": null,
            "object_fit": null,
            "object_position": null,
            "order": null,
            "overflow": null,
            "overflow_x": null,
            "overflow_y": null,
            "padding": null,
            "right": null,
            "top": null,
            "visibility": null,
            "width": null
          }
        },
        "1659ee96e9ec4c02aee37ab3137aa3a5": {
          "model_module": "@jupyter-widgets/base",
          "model_module_version": "1.2.0",
          "model_name": "LayoutModel",
          "state": {
            "_model_module": "@jupyter-widgets/base",
            "_model_module_version": "1.2.0",
            "_model_name": "LayoutModel",
            "_view_count": null,
            "_view_module": "@jupyter-widgets/base",
            "_view_module_version": "1.2.0",
            "_view_name": "LayoutView",
            "align_content": null,
            "align_items": null,
            "align_self": null,
            "border": null,
            "bottom": null,
            "display": null,
            "flex": null,
            "flex_flow": null,
            "grid_area": null,
            "grid_auto_columns": null,
            "grid_auto_flow": null,
            "grid_auto_rows": null,
            "grid_column": null,
            "grid_gap": null,
            "grid_row": null,
            "grid_template_areas": null,
            "grid_template_columns": null,
            "grid_template_rows": null,
            "height": null,
            "justify_content": null,
            "justify_items": null,
            "left": null,
            "margin": null,
            "max_height": null,
            "max_width": null,
            "min_height": null,
            "min_width": null,
            "object_fit": null,
            "object_position": null,
            "order": null,
            "overflow": null,
            "overflow_x": null,
            "overflow_y": null,
            "padding": null,
            "right": null,
            "top": null,
            "visibility": null,
            "width": null
          }
        },
        "169a1616828e4c7a8656c57d484ea911": {
          "model_module": "@jupyter-widgets/controls",
          "model_module_version": "1.5.0",
          "model_name": "FloatSliderModel",
          "state": {
            "_dom_classes": [],
            "_model_module": "@jupyter-widgets/controls",
            "_model_module_version": "1.5.0",
            "_model_name": "FloatSliderModel",
            "_view_count": null,
            "_view_module": "@jupyter-widgets/controls",
            "_view_module_version": "1.5.0",
            "_view_name": "FloatSliderView",
            "continuous_update": true,
            "description": "λ2",
            "description_tooltip": null,
            "disabled": false,
            "layout": "IPY_MODEL_56fafbbb9be54ce9b1b7f1d7515956e7",
            "max": 1,
            "min": -1,
            "orientation": "horizontal",
            "readout": true,
            "readout_format": ".2f",
            "step": 0.1,
            "style": "IPY_MODEL_97c7ec92043f46f4b46d4c86587b8321",
            "value": 0
          }
        },
        "197fc4afe96b4012a14d79312fe3eec7": {
          "model_module": "@jupyter-widgets/controls",
          "model_module_version": "1.5.0",
          "model_name": "FloatSliderModel",
          "state": {
            "_dom_classes": [],
            "_model_module": "@jupyter-widgets/controls",
            "_model_module_version": "1.5.0",
            "_model_name": "FloatSliderModel",
            "_view_count": null,
            "_view_module": "@jupyter-widgets/controls",
            "_view_module_version": "1.5.0",
            "_view_name": "FloatSliderView",
            "continuous_update": true,
            "description": "x0",
            "description_tooltip": null,
            "disabled": false,
            "layout": "IPY_MODEL_931262ce33e0456aa76692529d783cdd",
            "max": 3,
            "min": -1,
            "orientation": "horizontal",
            "readout": true,
            "readout_format": ".2f",
            "step": 0.1,
            "style": "IPY_MODEL_a265a9ae79c34f25b033e8a23be0e5f0",
            "value": 1
          }
        },
        "1bbd364ad7d143e6b5938e65456ce8bf": {
          "model_module": "@jupyter-widgets/base",
          "model_module_version": "1.2.0",
          "model_name": "LayoutModel",
          "state": {
            "_model_module": "@jupyter-widgets/base",
            "_model_module_version": "1.2.0",
            "_model_name": "LayoutModel",
            "_view_count": null,
            "_view_module": "@jupyter-widgets/base",
            "_view_module_version": "1.2.0",
            "_view_name": "LayoutView",
            "align_content": null,
            "align_items": null,
            "align_self": null,
            "border": null,
            "bottom": null,
            "display": null,
            "flex": null,
            "flex_flow": null,
            "grid_area": null,
            "grid_auto_columns": null,
            "grid_auto_flow": null,
            "grid_auto_rows": null,
            "grid_column": null,
            "grid_gap": null,
            "grid_row": null,
            "grid_template_areas": null,
            "grid_template_columns": null,
            "grid_template_rows": null,
            "height": null,
            "justify_content": null,
            "justify_items": null,
            "left": null,
            "margin": null,
            "max_height": null,
            "max_width": null,
            "min_height": null,
            "min_width": null,
            "object_fit": null,
            "object_position": null,
            "order": null,
            "overflow": null,
            "overflow_x": null,
            "overflow_y": null,
            "padding": null,
            "right": null,
            "top": null,
            "visibility": null,
            "width": null
          }
        },
        "2210f34f6f7940d7b0dc90370bb0f04c": {
          "model_module": "@jupyter-widgets/controls",
          "model_module_version": "1.5.0",
          "model_name": "FloatSliderModel",
          "state": {
            "_dom_classes": [],
            "_model_module": "@jupyter-widgets/controls",
            "_model_module_version": "1.5.0",
            "_model_name": "FloatSliderModel",
            "_view_count": null,
            "_view_module": "@jupyter-widgets/controls",
            "_view_module_version": "1.5.0",
            "_view_name": "FloatSliderView",
            "continuous_update": true,
            "description": "a_real",
            "description_tooltip": null,
            "disabled": false,
            "layout": "IPY_MODEL_7be52a01ccbe47bfae0276571e93bf1c",
            "max": 1,
            "min": -1,
            "orientation": "horizontal",
            "readout": true,
            "readout_format": ".2f",
            "step": 0.1,
            "style": "IPY_MODEL_fa3c97f1e7174690aae9475214042671",
            "value": 0
          }
        },
        "225863f7e6d540f8b83d3df77e3bfa26": {
          "model_module": "@jupyter-widgets/controls",
          "model_module_version": "1.5.0",
          "model_name": "VBoxModel",
          "state": {
            "_dom_classes": [
              "widget-interact"
            ],
            "_model_module": "@jupyter-widgets/controls",
            "_model_module_version": "1.5.0",
            "_model_name": "VBoxModel",
            "_view_count": null,
            "_view_module": "@jupyter-widgets/controls",
            "_view_module_version": "1.5.0",
            "_view_name": "VBoxView",
            "box_style": "",
            "children": [
              "IPY_MODEL_b64c80e9d34f4602a99a125f98d5148e",
              "IPY_MODEL_169a1616828e4c7a8656c57d484ea911",
              "IPY_MODEL_8a5033be98b8490cb0da4ee2fe5fdb96"
            ],
            "layout": "IPY_MODEL_1659ee96e9ec4c02aee37ab3137aa3a5"
          }
        },
        "3bbfa1f4655e4402b15a2856dccd2b6d": {
          "model_module": "@jupyter-widgets/controls",
          "model_module_version": "1.5.0",
          "model_name": "FloatLogSliderModel",
          "state": {
            "_dom_classes": [],
            "_model_module": "@jupyter-widgets/controls",
            "_model_module_version": "1.5.0",
            "_model_name": "FloatLogSliderModel",
            "_view_count": null,
            "_view_module": "@jupyter-widgets/controls",
            "_view_module_version": "1.5.0",
            "_view_name": "FloatLogSliderView",
            "base": 10,
            "continuous_update": true,
            "description": "dt",
            "description_tooltip": null,
            "disabled": false,
            "layout": "IPY_MODEL_d233ff4e48114711903764b525e7bbbb",
            "max": -1,
            "min": -3,
            "orientation": "horizontal",
            "readout": true,
            "readout_format": ".3g",
            "step": 0.1,
            "style": "IPY_MODEL_dd9a2393b26a454896b42187bba6fc95",
            "value": 0.01
          }
        },
        "465f52dfa753475488ded7f1c3ffb0b9": {
          "model_module": "@jupyter-widgets/controls",
          "model_module_version": "1.5.0",
          "model_name": "FloatSliderModel",
          "state": {
            "_dom_classes": [],
            "_model_module": "@jupyter-widgets/controls",
            "_model_module_version": "1.5.0",
            "_model_name": "FloatSliderModel",
            "_view_count": null,
            "_view_module": "@jupyter-widgets/controls",
            "_view_module_version": "1.5.0",
            "_view_name": "FloatSliderView",
            "continuous_update": true,
            "description": "λ2",
            "description_tooltip": null,
            "disabled": false,
            "layout": "IPY_MODEL_d8fbf868d4ef4f1aa3b416a9ff2f29d6",
            "max": 1,
            "min": -1,
            "orientation": "horizontal",
            "readout": true,
            "readout_format": ".2f",
            "step": 0.1,
            "style": "IPY_MODEL_bd83cf53ebb848dc8caa66e77c52be7c",
            "value": 0
          }
        },
        "515c4413dfa04ab980eca7d14234fb39": {
          "model_module": "@jupyter-widgets/controls",
          "model_module_version": "1.5.0",
          "model_name": "FloatSliderModel",
          "state": {
            "_dom_classes": [],
            "_model_module": "@jupyter-widgets/controls",
            "_model_module_version": "1.5.0",
            "_model_name": "FloatSliderModel",
            "_view_count": null,
            "_view_module": "@jupyter-widgets/controls",
            "_view_module_version": "1.5.0",
            "_view_name": "FloatSliderView",
            "continuous_update": true,
            "description": "a",
            "description_tooltip": null,
            "disabled": false,
            "layout": "IPY_MODEL_0fe0f5f85f624044b760515425eaa517",
            "max": 2,
            "min": -2,
            "orientation": "horizontal",
            "readout": true,
            "readout_format": ".2f",
            "step": 1,
            "style": "IPY_MODEL_a10689ceed5d46528b915335d82b4cd1",
            "value": 1
          }
        },
        "5648a797aed342589f78a681cc5af1fe": {
          "model_module": "@jupyter-widgets/controls",
          "model_module_version": "1.5.0",
          "model_name": "VBoxModel",
          "state": {
            "_dom_classes": [
              "widget-interact"
            ],
            "_model_module": "@jupyter-widgets/controls",
            "_model_module_version": "1.5.0",
            "_model_name": "VBoxModel",
            "_view_count": null,
            "_view_module": "@jupyter-widgets/controls",
            "_view_module_version": "1.5.0",
            "_view_name": "VBoxView",
            "box_style": "",
            "children": [
              "IPY_MODEL_d85bdb8255814653ab5dc757e5f43c0d",
              "IPY_MODEL_c7c22d334abe427ebee910c70a4c123b",
              "IPY_MODEL_8a6fce326db949f88e7b55c3f3487f70"
            ],
            "layout": "IPY_MODEL_68b62ef50e60483289484e22efa4ce28"
          }
        },
        "56fafbbb9be54ce9b1b7f1d7515956e7": {
          "model_module": "@jupyter-widgets/base",
          "model_module_version": "1.2.0",
          "model_name": "LayoutModel",
          "state": {
            "_model_module": "@jupyter-widgets/base",
            "_model_module_version": "1.2.0",
            "_model_name": "LayoutModel",
            "_view_count": null,
            "_view_module": "@jupyter-widgets/base",
            "_view_module_version": "1.2.0",
            "_view_name": "LayoutView",
            "align_content": null,
            "align_items": null,
            "align_self": null,
            "border": null,
            "bottom": null,
            "display": null,
            "flex": null,
            "flex_flow": null,
            "grid_area": null,
            "grid_auto_columns": null,
            "grid_auto_flow": null,
            "grid_auto_rows": null,
            "grid_column": null,
            "grid_gap": null,
            "grid_row": null,
            "grid_template_areas": null,
            "grid_template_columns": null,
            "grid_template_rows": null,
            "height": null,
            "justify_content": null,
            "justify_items": null,
            "left": null,
            "margin": null,
            "max_height": null,
            "max_width": null,
            "min_height": null,
            "min_width": null,
            "object_fit": null,
            "object_position": null,
            "order": null,
            "overflow": null,
            "overflow_x": null,
            "overflow_y": null,
            "padding": null,
            "right": null,
            "top": null,
            "visibility": null,
            "width": null
          }
        },
        "58338cd1b1a64c4ca5a238264ac0c8ea": {
          "model_module": "@jupyter-widgets/output",
          "model_module_version": "1.0.0",
          "model_name": "OutputModel",
          "state": {
            "_dom_classes": [],
            "_model_module": "@jupyter-widgets/output",
            "_model_module_version": "1.0.0",
            "_model_name": "OutputModel",
            "_view_count": null,
            "_view_module": "@jupyter-widgets/output",
            "_view_module_version": "1.0.0",
            "_view_name": "OutputView",
            "layout": "IPY_MODEL_6dfd4b45622f4298a7998bc7e8c76130",
            "msg_id": "",
            "outputs": [
              {
                "data": {
                  "image/png": "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\n",
                  "text/plain": "<Figure size 432x288 with 1 Axes>"
                },
                "metadata": {
                  "needs_background": "light"
                },
                "output_type": "display_data"
              }
            ]
          }
        },
        "6660cc73736e4729a8e112e781f04ed9": {
          "model_module": "@jupyter-widgets/controls",
          "model_module_version": "1.5.0",
          "model_name": "VBoxModel",
          "state": {
            "_dom_classes": [
              "widget-interact"
            ],
            "_model_module": "@jupyter-widgets/controls",
            "_model_module_version": "1.5.0",
            "_model_name": "VBoxModel",
            "_view_count": null,
            "_view_module": "@jupyter-widgets/controls",
            "_view_module_version": "1.5.0",
            "_view_name": "VBoxView",
            "box_style": "",
            "children": [
              "IPY_MODEL_cb5ef1821f47464fb19926f6ef19b1c5",
              "IPY_MODEL_465f52dfa753475488ded7f1c3ffb0b9",
              "IPY_MODEL_05bf6f397356466583a124970cf33f0a"
            ],
            "layout": "IPY_MODEL_bcaabba3a76143fea99a45be489862d0"
          }
        },
        "68b62ef50e60483289484e22efa4ce28": {
          "model_module": "@jupyter-widgets/base",
          "model_module_version": "1.2.0",
          "model_name": "LayoutModel",
          "state": {
            "_model_module": "@jupyter-widgets/base",
            "_model_module_version": "1.2.0",
            "_model_name": "LayoutModel",
            "_view_count": null,
            "_view_module": "@jupyter-widgets/base",
            "_view_module_version": "1.2.0",
            "_view_name": "LayoutView",
            "align_content": null,
            "align_items": null,
            "align_self": null,
            "border": null,
            "bottom": null,
            "display": null,
            "flex": null,
            "flex_flow": null,
            "grid_area": null,
            "grid_auto_columns": null,
            "grid_auto_flow": null,
            "grid_auto_rows": null,
            "grid_column": null,
            "grid_gap": null,
            "grid_row": null,
            "grid_template_areas": null,
            "grid_template_columns": null,
            "grid_template_rows": null,
            "height": null,
            "justify_content": null,
            "justify_items": null,
            "left": null,
            "margin": null,
            "max_height": null,
            "max_width": null,
            "min_height": null,
            "min_width": null,
            "object_fit": null,
            "object_position": null,
            "order": null,
            "overflow": null,
            "overflow_x": null,
            "overflow_y": null,
            "padding": null,
            "right": null,
            "top": null,
            "visibility": null,
            "width": null
          }
        },
        "6b1e848cf5214f289ee017e0214e8dc9": {
          "model_module": "@jupyter-widgets/controls",
          "model_module_version": "1.5.0",
          "model_name": "SliderStyleModel",
          "state": {
            "_model_module": "@jupyter-widgets/controls",
            "_model_module_version": "1.5.0",
            "_model_name": "SliderStyleModel",
            "_view_count": null,
            "_view_module": "@jupyter-widgets/base",
            "_view_module_version": "1.2.0",
            "_view_name": "StyleView",
            "description_width": "",
            "handle_color": null
          }
        },
        "6dfd4b45622f4298a7998bc7e8c76130": {
          "model_module": "@jupyter-widgets/base",
          "model_module_version": "1.2.0",
          "model_name": "LayoutModel",
          "state": {
            "_model_module": "@jupyter-widgets/base",
            "_model_module_version": "1.2.0",
            "_model_name": "LayoutModel",
            "_view_count": null,
            "_view_module": "@jupyter-widgets/base",
            "_view_module_version": "1.2.0",
            "_view_name": "LayoutView",
            "align_content": null,
            "align_items": null,
            "align_self": null,
            "border": null,
            "bottom": null,
            "display": null,
            "flex": null,
            "flex_flow": null,
            "grid_area": null,
            "grid_auto_columns": null,
            "grid_auto_flow": null,
            "grid_auto_rows": null,
            "grid_column": null,
            "grid_gap": null,
            "grid_row": null,
            "grid_template_areas": null,
            "grid_template_columns": null,
            "grid_template_rows": null,
            "height": null,
            "justify_content": null,
            "justify_items": null,
            "left": null,
            "margin": null,
            "max_height": null,
            "max_width": null,
            "min_height": null,
            "min_width": null,
            "object_fit": null,
            "object_position": null,
            "order": null,
            "overflow": null,
            "overflow_x": null,
            "overflow_y": null,
            "padding": null,
            "right": null,
            "top": null,
            "visibility": null,
            "width": null
          }
        },
        "715f2ecc64cf4239b794c4e3d108dba7": {
          "model_module": "@jupyter-widgets/controls",
          "model_module_version": "1.5.0",
          "model_name": "SliderStyleModel",
          "state": {
            "_model_module": "@jupyter-widgets/controls",
            "_model_module_version": "1.5.0",
            "_model_name": "SliderStyleModel",
            "_view_count": null,
            "_view_module": "@jupyter-widgets/base",
            "_view_module_version": "1.2.0",
            "_view_name": "StyleView",
            "description_width": "",
            "handle_color": null
          }
        },
        "7a8cdc67d07f4a2a9d8c845ab2a507a7": {
          "model_module": "@jupyter-widgets/controls",
          "model_module_version": "1.5.0",
          "model_name": "SliderStyleModel",
          "state": {
            "_model_module": "@jupyter-widgets/controls",
            "_model_module_version": "1.5.0",
            "_model_name": "SliderStyleModel",
            "_view_count": null,
            "_view_module": "@jupyter-widgets/base",
            "_view_module_version": "1.2.0",
            "_view_name": "StyleView",
            "description_width": "",
            "handle_color": null
          }
        },
        "7be52a01ccbe47bfae0276571e93bf1c": {
          "model_module": "@jupyter-widgets/base",
          "model_module_version": "1.2.0",
          "model_name": "LayoutModel",
          "state": {
            "_model_module": "@jupyter-widgets/base",
            "_model_module_version": "1.2.0",
            "_model_name": "LayoutModel",
            "_view_count": null,
            "_view_module": "@jupyter-widgets/base",
            "_view_module_version": "1.2.0",
            "_view_name": "LayoutView",
            "align_content": null,
            "align_items": null,
            "align_self": null,
            "border": null,
            "bottom": null,
            "display": null,
            "flex": null,
            "flex_flow": null,
            "grid_area": null,
            "grid_auto_columns": null,
            "grid_auto_flow": null,
            "grid_auto_rows": null,
            "grid_column": null,
            "grid_gap": null,
            "grid_row": null,
            "grid_template_areas": null,
            "grid_template_columns": null,
            "grid_template_rows": null,
            "height": null,
            "justify_content": null,
            "justify_items": null,
            "left": null,
            "margin": null,
            "max_height": null,
            "max_width": null,
            "min_height": null,
            "min_width": null,
            "object_fit": null,
            "object_position": null,
            "order": null,
            "overflow": null,
            "overflow_x": null,
            "overflow_y": null,
            "padding": null,
            "right": null,
            "top": null,
            "visibility": null,
            "width": null
          }
        },
        "8a5033be98b8490cb0da4ee2fe5fdb96": {
          "model_module": "@jupyter-widgets/output",
          "model_module_version": "1.0.0",
          "model_name": "OutputModel",
          "state": {
            "_dom_classes": [],
            "_model_module": "@jupyter-widgets/output",
            "_model_module_version": "1.0.0",
            "_model_name": "OutputModel",
            "_view_count": null,
            "_view_module": "@jupyter-widgets/output",
            "_view_module_version": "1.0.0",
            "_view_name": "OutputView",
            "layout": "IPY_MODEL_f9ab89ec710f4fad96eca86fc9a25354",
            "msg_id": "",
            "outputs": [
              {
                "data": {
                  "image/png": "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\n",
                  "text/plain": "<Figure size 216x216 with 1 Axes>"
                },
                "metadata": {
                  "needs_background": "light"
                },
                "output_type": "display_data"
              }
            ]
          }
        },
        "8a6fce326db949f88e7b55c3f3487f70": {
          "model_module": "@jupyter-widgets/output",
          "model_module_version": "1.0.0",
          "model_name": "OutputModel",
          "state": {
            "_dom_classes": [],
            "_model_module": "@jupyter-widgets/output",
            "_model_module_version": "1.0.0",
            "_model_name": "OutputModel",
            "_view_count": null,
            "_view_module": "@jupyter-widgets/output",
            "_view_module_version": "1.0.0",
            "_view_name": "OutputView",
            "layout": "IPY_MODEL_0b41dd7e2b93493c929a680835a267c6",
            "msg_id": "",
            "outputs": [
              {
                "data": {
                  "image/png": "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\n",
                  "text/plain": "<Figure size 216x216 with 1 Axes>"
                },
                "metadata": {
                  "needs_background": "light"
                },
                "output_type": "display_data"
              }
            ]
          }
        },
        "9207d4e810c945ad9572c25959ad156a": {
          "model_module": "@jupyter-widgets/controls",
          "model_module_version": "1.5.0",
          "model_name": "SliderStyleModel",
          "state": {
            "_model_module": "@jupyter-widgets/controls",
            "_model_module_version": "1.5.0",
            "_model_name": "SliderStyleModel",
            "_view_count": null,
            "_view_module": "@jupyter-widgets/base",
            "_view_module_version": "1.2.0",
            "_view_name": "StyleView",
            "description_width": "",
            "handle_color": null
          }
        },
        "931262ce33e0456aa76692529d783cdd": {
          "model_module": "@jupyter-widgets/base",
          "model_module_version": "1.2.0",
          "model_name": "LayoutModel",
          "state": {
            "_model_module": "@jupyter-widgets/base",
            "_model_module_version": "1.2.0",
            "_model_name": "LayoutModel",
            "_view_count": null,
            "_view_module": "@jupyter-widgets/base",
            "_view_module_version": "1.2.0",
            "_view_name": "LayoutView",
            "align_content": null,
            "align_items": null,
            "align_self": null,
            "border": null,
            "bottom": null,
            "display": null,
            "flex": null,
            "flex_flow": null,
            "grid_area": null,
            "grid_auto_columns": null,
            "grid_auto_flow": null,
            "grid_auto_rows": null,
            "grid_column": null,
            "grid_gap": null,
            "grid_row": null,
            "grid_template_areas": null,
            "grid_template_columns": null,
            "grid_template_rows": null,
            "height": null,
            "justify_content": null,
            "justify_items": null,
            "left": null,
            "margin": null,
            "max_height": null,
            "max_width": null,
            "min_height": null,
            "min_width": null,
            "object_fit": null,
            "object_position": null,
            "order": null,
            "overflow": null,
            "overflow_x": null,
            "overflow_y": null,
            "padding": null,
            "right": null,
            "top": null,
            "visibility": null,
            "width": null
          }
        },
        "95fa22b4bcc144a98b99f4e3276660f0": {
          "model_module": "@jupyter-widgets/output",
          "model_module_version": "1.0.0",
          "model_name": "OutputModel",
          "state": {
            "_dom_classes": [],
            "_model_module": "@jupyter-widgets/output",
            "_model_module_version": "1.0.0",
            "_model_name": "OutputModel",
            "_view_count": null,
            "_view_module": "@jupyter-widgets/output",
            "_view_module_version": "1.0.0",
            "_view_name": "OutputView",
            "layout": "IPY_MODEL_0c4808d53df7407188a7ebb897e8a036",
            "msg_id": "",
            "outputs": [
              {
                "data": {
                  "image/png": "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\n",
                  "text/plain": "<Figure size 432x288 with 1 Axes>"
                },
                "metadata": {
                  "needs_background": "light"
                },
                "output_type": "display_data"
              }
            ]
          }
        },
        "97c7ec92043f46f4b46d4c86587b8321": {
          "model_module": "@jupyter-widgets/controls",
          "model_module_version": "1.5.0",
          "model_name": "SliderStyleModel",
          "state": {
            "_model_module": "@jupyter-widgets/controls",
            "_model_module_version": "1.5.0",
            "_model_name": "SliderStyleModel",
            "_view_count": null,
            "_view_module": "@jupyter-widgets/base",
            "_view_module_version": "1.2.0",
            "_view_name": "StyleView",
            "description_width": "",
            "handle_color": null
          }
        },
        "97e717ca46254199a1760d6971aebebe": {
          "model_module": "@jupyter-widgets/base",
          "model_module_version": "1.2.0",
          "model_name": "LayoutModel",
          "state": {
            "_model_module": "@jupyter-widgets/base",
            "_model_module_version": "1.2.0",
            "_model_name": "LayoutModel",
            "_view_count": null,
            "_view_module": "@jupyter-widgets/base",
            "_view_module_version": "1.2.0",
            "_view_name": "LayoutView",
            "align_content": null,
            "align_items": null,
            "align_self": null,
            "border": null,
            "bottom": null,
            "display": null,
            "flex": null,
            "flex_flow": null,
            "grid_area": null,
            "grid_auto_columns": null,
            "grid_auto_flow": null,
            "grid_auto_rows": null,
            "grid_column": null,
            "grid_gap": null,
            "grid_row": null,
            "grid_template_areas": null,
            "grid_template_columns": null,
            "grid_template_rows": null,
            "height": null,
            "justify_content": null,
            "justify_items": null,
            "left": null,
            "margin": null,
            "max_height": null,
            "max_width": null,
            "min_height": null,
            "min_width": null,
            "object_fit": null,
            "object_position": null,
            "order": null,
            "overflow": null,
            "overflow_x": null,
            "overflow_y": null,
            "padding": null,
            "right": null,
            "top": null,
            "visibility": null,
            "width": null
          }
        },
        "a10689ceed5d46528b915335d82b4cd1": {
          "model_module": "@jupyter-widgets/controls",
          "model_module_version": "1.5.0",
          "model_name": "SliderStyleModel",
          "state": {
            "_model_module": "@jupyter-widgets/controls",
            "_model_module_version": "1.5.0",
            "_model_name": "SliderStyleModel",
            "_view_count": null,
            "_view_module": "@jupyter-widgets/base",
            "_view_module_version": "1.2.0",
            "_view_name": "StyleView",
            "description_width": "",
            "handle_color": null
          }
        },
        "a265a9ae79c34f25b033e8a23be0e5f0": {
          "model_module": "@jupyter-widgets/controls",
          "model_module_version": "1.5.0",
          "model_name": "SliderStyleModel",
          "state": {
            "_model_module": "@jupyter-widgets/controls",
            "_model_module_version": "1.5.0",
            "_model_name": "SliderStyleModel",
            "_view_count": null,
            "_view_module": "@jupyter-widgets/base",
            "_view_module_version": "1.2.0",
            "_view_name": "StyleView",
            "description_width": "",
            "handle_color": null
          }
        },
        "a4a3c0f2f6654ef7964a0f798a5347df": {
          "model_module": "@jupyter-widgets/controls",
          "model_module_version": "1.5.0",
          "model_name": "SliderStyleModel",
          "state": {
            "_model_module": "@jupyter-widgets/controls",
            "_model_module_version": "1.5.0",
            "_model_name": "SliderStyleModel",
            "_view_count": null,
            "_view_module": "@jupyter-widgets/base",
            "_view_module_version": "1.2.0",
            "_view_name": "StyleView",
            "description_width": "",
            "handle_color": null
          }
        },
        "a578f7e811e64d6fbf87b6241928f3cc": {
          "model_module": "@jupyter-widgets/base",
          "model_module_version": "1.2.0",
          "model_name": "LayoutModel",
          "state": {
            "_model_module": "@jupyter-widgets/base",
            "_model_module_version": "1.2.0",
            "_model_name": "LayoutModel",
            "_view_count": null,
            "_view_module": "@jupyter-widgets/base",
            "_view_module_version": "1.2.0",
            "_view_name": "LayoutView",
            "align_content": null,
            "align_items": null,
            "align_self": null,
            "border": null,
            "bottom": null,
            "display": null,
            "flex": null,
            "flex_flow": null,
            "grid_area": null,
            "grid_auto_columns": null,
            "grid_auto_flow": null,
            "grid_auto_rows": null,
            "grid_column": null,
            "grid_gap": null,
            "grid_row": null,
            "grid_template_areas": null,
            "grid_template_columns": null,
            "grid_template_rows": null,
            "height": null,
            "justify_content": null,
            "justify_items": null,
            "left": null,
            "margin": null,
            "max_height": null,
            "max_width": null,
            "min_height": null,
            "min_width": null,
            "object_fit": null,
            "object_position": null,
            "order": null,
            "overflow": null,
            "overflow_x": null,
            "overflow_y": null,
            "padding": null,
            "right": null,
            "top": null,
            "visibility": null,
            "width": null
          }
        },
        "a6a8e616a76842e882ddf2add33a5a34": {
          "model_module": "@jupyter-widgets/controls",
          "model_module_version": "1.5.0",
          "model_name": "SliderStyleModel",
          "state": {
            "_model_module": "@jupyter-widgets/controls",
            "_model_module_version": "1.5.0",
            "_model_name": "SliderStyleModel",
            "_view_count": null,
            "_view_module": "@jupyter-widgets/base",
            "_view_module_version": "1.2.0",
            "_view_name": "StyleView",
            "description_width": "",
            "handle_color": null
          }
        },
        "a8dcb0808fd34218ada9626368448399": {
          "model_module": "@jupyter-widgets/controls",
          "model_module_version": "1.5.0",
          "model_name": "VBoxModel",
          "state": {
            "_dom_classes": [
              "widget-interact"
            ],
            "_model_module": "@jupyter-widgets/controls",
            "_model_module_version": "1.5.0",
            "_model_name": "VBoxModel",
            "_view_count": null,
            "_view_module": "@jupyter-widgets/controls",
            "_view_module_version": "1.5.0",
            "_view_name": "VBoxView",
            "box_style": "",
            "children": [
              "IPY_MODEL_197fc4afe96b4012a14d79312fe3eec7",
              "IPY_MODEL_2210f34f6f7940d7b0dc90370bb0f04c",
              "IPY_MODEL_eca71e3132e543708d2500049571d066",
              "IPY_MODEL_58338cd1b1a64c4ca5a238264ac0c8ea"
            ],
            "layout": "IPY_MODEL_bffc059c9ad44b59a2fe4aed07b4a24f"
          }
        },
        "a9d84608039e47ee953546d5bf11d5b3": {
          "model_module": "@jupyter-widgets/base",
          "model_module_version": "1.2.0",
          "model_name": "LayoutModel",
          "state": {
            "_model_module": "@jupyter-widgets/base",
            "_model_module_version": "1.2.0",
            "_model_name": "LayoutModel",
            "_view_count": null,
            "_view_module": "@jupyter-widgets/base",
            "_view_module_version": "1.2.0",
            "_view_name": "LayoutView",
            "align_content": null,
            "align_items": null,
            "align_self": null,
            "border": null,
            "bottom": null,
            "display": null,
            "flex": null,
            "flex_flow": null,
            "grid_area": null,
            "grid_auto_columns": null,
            "grid_auto_flow": null,
            "grid_auto_rows": null,
            "grid_column": null,
            "grid_gap": null,
            "grid_row": null,
            "grid_template_areas": null,
            "grid_template_columns": null,
            "grid_template_rows": null,
            "height": null,
            "justify_content": null,
            "justify_items": null,
            "left": null,
            "margin": null,
            "max_height": null,
            "max_width": null,
            "min_height": null,
            "min_width": null,
            "object_fit": null,
            "object_position": null,
            "order": null,
            "overflow": null,
            "overflow_x": null,
            "overflow_y": null,
            "padding": null,
            "right": null,
            "top": null,
            "visibility": null,
            "width": null
          }
        },
        "b64c80e9d34f4602a99a125f98d5148e": {
          "model_module": "@jupyter-widgets/controls",
          "model_module_version": "1.5.0",
          "model_name": "FloatSliderModel",
          "state": {
            "_dom_classes": [],
            "_model_module": "@jupyter-widgets/controls",
            "_model_module_version": "1.5.0",
            "_model_name": "FloatSliderModel",
            "_view_count": null,
            "_view_module": "@jupyter-widgets/controls",
            "_view_module_version": "1.5.0",
            "_view_name": "FloatSliderView",
            "continuous_update": true,
            "description": "λ1",
            "description_tooltip": null,
            "disabled": false,
            "layout": "IPY_MODEL_13e2c86a8c614f8ea18d7fe5da443539",
            "max": 1,
            "min": -1,
            "orientation": "horizontal",
            "readout": true,
            "readout_format": ".2f",
            "step": 0.1,
            "style": "IPY_MODEL_a6a8e616a76842e882ddf2add33a5a34",
            "value": 0
          }
        },
        "bcaabba3a76143fea99a45be489862d0": {
          "model_module": "@jupyter-widgets/base",
          "model_module_version": "1.2.0",
          "model_name": "LayoutModel",
          "state": {
            "_model_module": "@jupyter-widgets/base",
            "_model_module_version": "1.2.0",
            "_model_name": "LayoutModel",
            "_view_count": null,
            "_view_module": "@jupyter-widgets/base",
            "_view_module_version": "1.2.0",
            "_view_name": "LayoutView",
            "align_content": null,
            "align_items": null,
            "align_self": null,
            "border": null,
            "bottom": null,
            "display": null,
            "flex": null,
            "flex_flow": null,
            "grid_area": null,
            "grid_auto_columns": null,
            "grid_auto_flow": null,
            "grid_auto_rows": null,
            "grid_column": null,
            "grid_gap": null,
            "grid_row": null,
            "grid_template_areas": null,
            "grid_template_columns": null,
            "grid_template_rows": null,
            "height": null,
            "justify_content": null,
            "justify_items": null,
            "left": null,
            "margin": null,
            "max_height": null,
            "max_width": null,
            "min_height": null,
            "min_width": null,
            "object_fit": null,
            "object_position": null,
            "order": null,
            "overflow": null,
            "overflow_x": null,
            "overflow_y": null,
            "padding": null,
            "right": null,
            "top": null,
            "visibility": null,
            "width": null
          }
        },
        "bd83cf53ebb848dc8caa66e77c52be7c": {
          "model_module": "@jupyter-widgets/controls",
          "model_module_version": "1.5.0",
          "model_name": "SliderStyleModel",
          "state": {
            "_model_module": "@jupyter-widgets/controls",
            "_model_module_version": "1.5.0",
            "_model_name": "SliderStyleModel",
            "_view_count": null,
            "_view_module": "@jupyter-widgets/base",
            "_view_module_version": "1.2.0",
            "_view_name": "StyleView",
            "description_width": "",
            "handle_color": null
          }
        },
        "bffc059c9ad44b59a2fe4aed07b4a24f": {
          "model_module": "@jupyter-widgets/base",
          "model_module_version": "1.2.0",
          "model_name": "LayoutModel",
          "state": {
            "_model_module": "@jupyter-widgets/base",
            "_model_module_version": "1.2.0",
            "_model_name": "LayoutModel",
            "_view_count": null,
            "_view_module": "@jupyter-widgets/base",
            "_view_module_version": "1.2.0",
            "_view_name": "LayoutView",
            "align_content": null,
            "align_items": null,
            "align_self": null,
            "border": null,
            "bottom": null,
            "display": null,
            "flex": null,
            "flex_flow": null,
            "grid_area": null,
            "grid_auto_columns": null,
            "grid_auto_flow": null,
            "grid_auto_rows": null,
            "grid_column": null,
            "grid_gap": null,
            "grid_row": null,
            "grid_template_areas": null,
            "grid_template_columns": null,
            "grid_template_rows": null,
            "height": null,
            "justify_content": null,
            "justify_items": null,
            "left": null,
            "margin": null,
            "max_height": null,
            "max_width": null,
            "min_height": null,
            "min_width": null,
            "object_fit": null,
            "object_position": null,
            "order": null,
            "overflow": null,
            "overflow_x": null,
            "overflow_y": null,
            "padding": null,
            "right": null,
            "top": null,
            "visibility": null,
            "width": null
          }
        },
        "c7c22d334abe427ebee910c70a4c123b": {
          "model_module": "@jupyter-widgets/controls",
          "model_module_version": "1.5.0",
          "model_name": "FloatSliderModel",
          "state": {
            "_dom_classes": [],
            "_model_module": "@jupyter-widgets/controls",
            "_model_module_version": "1.5.0",
            "_model_name": "FloatSliderModel",
            "_view_count": null,
            "_view_module": "@jupyter-widgets/controls",
            "_view_module_version": "1.5.0",
            "_view_name": "FloatSliderView",
            "continuous_update": true,
            "description": "rotate ⤾",
            "description_tooltip": null,
            "disabled": false,
            "layout": "IPY_MODEL_fedf1d603b544099b2b99251723e58f4",
            "max": 90,
            "min": -90,
            "orientation": "horizontal",
            "readout": true,
            "readout_format": ".2f",
            "step": 5,
            "style": "IPY_MODEL_a4a3c0f2f6654ef7964a0f798a5347df",
            "value": 30
          }
        },
        "cb5ef1821f47464fb19926f6ef19b1c5": {
          "model_module": "@jupyter-widgets/controls",
          "model_module_version": "1.5.0",
          "model_name": "FloatSliderModel",
          "state": {
            "_dom_classes": [],
            "_model_module": "@jupyter-widgets/controls",
            "_model_module_version": "1.5.0",
            "_model_name": "FloatSliderModel",
            "_view_count": null,
            "_view_module": "@jupyter-widgets/controls",
            "_view_module_version": "1.5.0",
            "_view_name": "FloatSliderView",
            "continuous_update": true,
            "description": "λ1",
            "description_tooltip": null,
            "disabled": false,
            "layout": "IPY_MODEL_f6a29122d2dd48a4b42c353bf78b439d",
            "max": 1,
            "min": -1,
            "orientation": "horizontal",
            "readout": true,
            "readout_format": ".2f",
            "step": 0.1,
            "style": "IPY_MODEL_6b1e848cf5214f289ee017e0214e8dc9",
            "value": 0.4
          }
        },
        "d233ff4e48114711903764b525e7bbbb": {
          "model_module": "@jupyter-widgets/base",
          "model_module_version": "1.2.0",
          "model_name": "LayoutModel",
          "state": {
            "_model_module": "@jupyter-widgets/base",
            "_model_module_version": "1.2.0",
            "_model_name": "LayoutModel",
            "_view_count": null,
            "_view_module": "@jupyter-widgets/base",
            "_view_module_version": "1.2.0",
            "_view_name": "LayoutView",
            "align_content": null,
            "align_items": null,
            "align_self": null,
            "border": null,
            "bottom": null,
            "display": null,
            "flex": null,
            "flex_flow": null,
            "grid_area": null,
            "grid_auto_columns": null,
            "grid_auto_flow": null,
            "grid_auto_rows": null,
            "grid_column": null,
            "grid_gap": null,
            "grid_row": null,
            "grid_template_areas": null,
            "grid_template_columns": null,
            "grid_template_rows": null,
            "height": null,
            "justify_content": null,
            "justify_items": null,
            "left": null,
            "margin": null,
            "max_height": null,
            "max_width": null,
            "min_height": null,
            "min_width": null,
            "object_fit": null,
            "object_position": null,
            "order": null,
            "overflow": null,
            "overflow_x": null,
            "overflow_y": null,
            "padding": null,
            "right": null,
            "top": null,
            "visibility": null,
            "width": null
          }
        },
        "d593cdb684a14459a87234dd302af4f5": {
          "model_module": "@jupyter-widgets/controls",
          "model_module_version": "1.5.0",
          "model_name": "FloatSliderModel",
          "state": {
            "_dom_classes": [],
            "_model_module": "@jupyter-widgets/controls",
            "_model_module_version": "1.5.0",
            "_model_name": "FloatSliderModel",
            "_view_count": null,
            "_view_module": "@jupyter-widgets/controls",
            "_view_module_version": "1.5.0",
            "_view_name": "FloatSliderView",
            "continuous_update": true,
            "description": "x0",
            "description_tooltip": null,
            "disabled": false,
            "layout": "IPY_MODEL_a578f7e811e64d6fbf87b6241928f3cc",
            "max": 3,
            "min": -1,
            "orientation": "horizontal",
            "readout": true,
            "readout_format": ".2f",
            "step": 0.1,
            "style": "IPY_MODEL_9207d4e810c945ad9572c25959ad156a",
            "value": 1
          }
        },
        "d85bdb8255814653ab5dc757e5f43c0d": {
          "model_module": "@jupyter-widgets/controls",
          "model_module_version": "1.5.0",
          "model_name": "FloatLogSliderModel",
          "state": {
            "_dom_classes": [],
            "_model_module": "@jupyter-widgets/controls",
            "_model_module_version": "1.5.0",
            "_model_name": "FloatLogSliderModel",
            "_view_count": null,
            "_view_module": "@jupyter-widgets/controls",
            "_view_module_version": "1.5.0",
            "_view_name": "FloatLogSliderView",
            "base": 10,
            "continuous_update": true,
            "description": "stretch ↕",
            "description_tooltip": null,
            "disabled": false,
            "layout": "IPY_MODEL_a9d84608039e47ee953546d5bf11d5b3",
            "max": 1,
            "min": -1,
            "orientation": "horizontal",
            "readout": true,
            "readout_format": ".3g",
            "step": 0.1,
            "style": "IPY_MODEL_7a8cdc67d07f4a2a9d8c845ab2a507a7",
            "value": 1.5848931924611136
          }
        },
        "d8fbf868d4ef4f1aa3b416a9ff2f29d6": {
          "model_module": "@jupyter-widgets/base",
          "model_module_version": "1.2.0",
          "model_name": "LayoutModel",
          "state": {
            "_model_module": "@jupyter-widgets/base",
            "_model_module_version": "1.2.0",
            "_model_name": "LayoutModel",
            "_view_count": null,
            "_view_module": "@jupyter-widgets/base",
            "_view_module_version": "1.2.0",
            "_view_name": "LayoutView",
            "align_content": null,
            "align_items": null,
            "align_self": null,
            "border": null,
            "bottom": null,
            "display": null,
            "flex": null,
            "flex_flow": null,
            "grid_area": null,
            "grid_auto_columns": null,
            "grid_auto_flow": null,
            "grid_auto_rows": null,
            "grid_column": null,
            "grid_gap": null,
            "grid_row": null,
            "grid_template_areas": null,
            "grid_template_columns": null,
            "grid_template_rows": null,
            "height": null,
            "justify_content": null,
            "justify_items": null,
            "left": null,
            "margin": null,
            "max_height": null,
            "max_width": null,
            "min_height": null,
            "min_width": null,
            "object_fit": null,
            "object_position": null,
            "order": null,
            "overflow": null,
            "overflow_x": null,
            "overflow_y": null,
            "padding": null,
            "right": null,
            "top": null,
            "visibility": null,
            "width": null
          }
        },
        "dd9a2393b26a454896b42187bba6fc95": {
          "model_module": "@jupyter-widgets/controls",
          "model_module_version": "1.5.0",
          "model_name": "SliderStyleModel",
          "state": {
            "_model_module": "@jupyter-widgets/controls",
            "_model_module_version": "1.5.0",
            "_model_name": "SliderStyleModel",
            "_view_count": null,
            "_view_module": "@jupyter-widgets/base",
            "_view_module_version": "1.2.0",
            "_view_name": "StyleView",
            "description_width": "",
            "handle_color": null
          }
        },
        "eca71e3132e543708d2500049571d066": {
          "model_module": "@jupyter-widgets/controls",
          "model_module_version": "1.5.0",
          "model_name": "FloatSliderModel",
          "state": {
            "_dom_classes": [],
            "_model_module": "@jupyter-widgets/controls",
            "_model_module_version": "1.5.0",
            "_model_name": "FloatSliderModel",
            "_view_count": null,
            "_view_module": "@jupyter-widgets/controls",
            "_view_module_version": "1.5.0",
            "_view_name": "FloatSliderView",
            "continuous_update": true,
            "description": "a_imag",
            "description_tooltip": null,
            "disabled": false,
            "layout": "IPY_MODEL_1bbd364ad7d143e6b5938e65456ce8bf",
            "max": 5,
            "min": -1,
            "orientation": "horizontal",
            "readout": true,
            "readout_format": ".2f",
            "step": 0.1,
            "style": "IPY_MODEL_715f2ecc64cf4239b794c4e3d108dba7",
            "value": 1
          }
        },
        "ee537d4f32f44b2fb8849f35c8492540": {
          "model_module": "@jupyter-widgets/base",
          "model_module_version": "1.2.0",
          "model_name": "LayoutModel",
          "state": {
            "_model_module": "@jupyter-widgets/base",
            "_model_module_version": "1.2.0",
            "_model_name": "LayoutModel",
            "_view_count": null,
            "_view_module": "@jupyter-widgets/base",
            "_view_module_version": "1.2.0",
            "_view_name": "LayoutView",
            "align_content": null,
            "align_items": null,
            "align_self": null,
            "border": null,
            "bottom": null,
            "display": null,
            "flex": null,
            "flex_flow": null,
            "grid_area": null,
            "grid_auto_columns": null,
            "grid_auto_flow": null,
            "grid_auto_rows": null,
            "grid_column": null,
            "grid_gap": null,
            "grid_row": null,
            "grid_template_areas": null,
            "grid_template_columns": null,
            "grid_template_rows": null,
            "height": null,
            "justify_content": null,
            "justify_items": null,
            "left": null,
            "margin": null,
            "max_height": null,
            "max_width": null,
            "min_height": null,
            "min_width": null,
            "object_fit": null,
            "object_position": null,
            "order": null,
            "overflow": null,
            "overflow_x": null,
            "overflow_y": null,
            "padding": null,
            "right": null,
            "top": null,
            "visibility": null,
            "width": null
          }
        },
        "f6a29122d2dd48a4b42c353bf78b439d": {
          "model_module": "@jupyter-widgets/base",
          "model_module_version": "1.2.0",
          "model_name": "LayoutModel",
          "state": {
            "_model_module": "@jupyter-widgets/base",
            "_model_module_version": "1.2.0",
            "_model_name": "LayoutModel",
            "_view_count": null,
            "_view_module": "@jupyter-widgets/base",
            "_view_module_version": "1.2.0",
            "_view_name": "LayoutView",
            "align_content": null,
            "align_items": null,
            "align_self": null,
            "border": null,
            "bottom": null,
            "display": null,
            "flex": null,
            "flex_flow": null,
            "grid_area": null,
            "grid_auto_columns": null,
            "grid_auto_flow": null,
            "grid_auto_rows": null,
            "grid_column": null,
            "grid_gap": null,
            "grid_row": null,
            "grid_template_areas": null,
            "grid_template_columns": null,
            "grid_template_rows": null,
            "height": null,
            "justify_content": null,
            "justify_items": null,
            "left": null,
            "margin": null,
            "max_height": null,
            "max_width": null,
            "min_height": null,
            "min_width": null,
            "object_fit": null,
            "object_position": null,
            "order": null,
            "overflow": null,
            "overflow_x": null,
            "overflow_y": null,
            "padding": null,
            "right": null,
            "top": null,
            "visibility": null,
            "width": null
          }
        },
        "f9ab89ec710f4fad96eca86fc9a25354": {
          "model_module": "@jupyter-widgets/base",
          "model_module_version": "1.2.0",
          "model_name": "LayoutModel",
          "state": {
            "_model_module": "@jupyter-widgets/base",
            "_model_module_version": "1.2.0",
            "_model_name": "LayoutModel",
            "_view_count": null,
            "_view_module": "@jupyter-widgets/base",
            "_view_module_version": "1.2.0",
            "_view_name": "LayoutView",
            "align_content": null,
            "align_items": null,
            "align_self": null,
            "border": null,
            "bottom": null,
            "display": null,
            "flex": null,
            "flex_flow": null,
            "grid_area": null,
            "grid_auto_columns": null,
            "grid_auto_flow": null,
            "grid_auto_rows": null,
            "grid_column": null,
            "grid_gap": null,
            "grid_row": null,
            "grid_template_areas": null,
            "grid_template_columns": null,
            "grid_template_rows": null,
            "height": null,
            "justify_content": null,
            "justify_items": null,
            "left": null,
            "margin": null,
            "max_height": null,
            "max_width": null,
            "min_height": null,
            "min_width": null,
            "object_fit": null,
            "object_position": null,
            "order": null,
            "overflow": null,
            "overflow_x": null,
            "overflow_y": null,
            "padding": null,
            "right": null,
            "top": null,
            "visibility": null,
            "width": null
          }
        },
        "fa3c97f1e7174690aae9475214042671": {
          "model_module": "@jupyter-widgets/controls",
          "model_module_version": "1.5.0",
          "model_name": "SliderStyleModel",
          "state": {
            "_model_module": "@jupyter-widgets/controls",
            "_model_module_version": "1.5.0",
            "_model_name": "SliderStyleModel",
            "_view_count": null,
            "_view_module": "@jupyter-widgets/base",
            "_view_module_version": "1.2.0",
            "_view_name": "StyleView",
            "description_width": "",
            "handle_color": null
          }
        },
        "fedf1d603b544099b2b99251723e58f4": {
          "model_module": "@jupyter-widgets/base",
          "model_module_version": "1.2.0",
          "model_name": "LayoutModel",
          "state": {
            "_model_module": "@jupyter-widgets/base",
            "_model_module_version": "1.2.0",
            "_model_name": "LayoutModel",
            "_view_count": null,
            "_view_module": "@jupyter-widgets/base",
            "_view_module_version": "1.2.0",
            "_view_name": "LayoutView",
            "align_content": null,
            "align_items": null,
            "align_self": null,
            "border": null,
            "bottom": null,
            "display": null,
            "flex": null,
            "flex_flow": null,
            "grid_area": null,
            "grid_auto_columns": null,
            "grid_auto_flow": null,
            "grid_auto_rows": null,
            "grid_column": null,
            "grid_gap": null,
            "grid_row": null,
            "grid_template_areas": null,
            "grid_template_columns": null,
            "grid_template_rows": null,
            "height": null,
            "justify_content": null,
            "justify_items": null,
            "left": null,
            "margin": null,
            "max_height": null,
            "max_width": null,
            "min_height": null,
            "min_width": null,
            "object_fit": null,
            "object_position": null,
            "order": null,
            "overflow": null,
            "overflow_x": null,
            "overflow_y": null,
            "padding": null,
            "right": null,
            "top": null,
            "visibility": null,
            "width": null
          }
        }
      }
    }
  },
  "nbformat": 4,
  "nbformat_minor": 0
}